{
 "cells": [
  {
   "cell_type": "code",
   "execution_count": 1,
   "id": "1288a2d2",
   "metadata": {
    "scrolled": false
   },
   "outputs": [],
   "source": [
    "import pandas_datareader as pdr"
   ]
  },
  {
   "cell_type": "code",
   "execution_count": 2,
   "id": "53bab95a",
   "metadata": {},
   "outputs": [
    {
     "name": "stderr",
     "output_type": "stream",
     "text": [
      "/var/folders/vw/n65t9rg52vjb327j3k2wqxlr0000gn/T/ipykernel_93382/2528967154.py:1: FutureWarning: In a future version of pandas all arguments of concat except for the argument 'objs' will be keyword-only.\n",
      "  df = pdr.get_data_tiingo('AAPL',api_key= '952e16c7648ffaca67d3021c753cedc588657865')\n"
     ]
    }
   ],
   "source": [
    "df = pdr.get_data_tiingo('AAPL',api_key= '952e16c7648ffaca67d3021c753cedc588657865')"
   ]
  },
  {
   "cell_type": "code",
   "execution_count": 3,
   "id": "afe6570e",
   "metadata": {},
   "outputs": [],
   "source": [
    "df.to_csv('AAPL.csv')"
   ]
  },
  {
   "cell_type": "code",
   "execution_count": 4,
   "id": "7be8f3cb",
   "metadata": {},
   "outputs": [],
   "source": [
    "import pandas as pd"
   ]
  },
  {
   "cell_type": "code",
   "execution_count": 5,
   "id": "12e3022e",
   "metadata": {},
   "outputs": [],
   "source": [
    "df = pd.read_csv('AAPL.csv')"
   ]
  },
  {
   "cell_type": "code",
   "execution_count": null,
   "id": "4a3d3d00",
   "metadata": {},
   "outputs": [],
   "source": []
  },
  {
   "cell_type": "code",
   "execution_count": 9,
   "id": "f672aac8",
   "metadata": {},
   "outputs": [
    {
     "data": {
      "text/html": [
       "<div>\n",
       "<style scoped>\n",
       "    .dataframe tbody tr th:only-of-type {\n",
       "        vertical-align: middle;\n",
       "    }\n",
       "\n",
       "    .dataframe tbody tr th {\n",
       "        vertical-align: top;\n",
       "    }\n",
       "\n",
       "    .dataframe thead th {\n",
       "        text-align: right;\n",
       "    }\n",
       "</style>\n",
       "<table border=\"1\" class=\"dataframe\">\n",
       "  <thead>\n",
       "    <tr style=\"text-align: right;\">\n",
       "      <th></th>\n",
       "      <th>symbol</th>\n",
       "      <th>date</th>\n",
       "      <th>close</th>\n",
       "      <th>high</th>\n",
       "      <th>low</th>\n",
       "      <th>open</th>\n",
       "      <th>volume</th>\n",
       "      <th>adjClose</th>\n",
       "      <th>adjHigh</th>\n",
       "      <th>adjLow</th>\n",
       "      <th>adjOpen</th>\n",
       "      <th>adjVolume</th>\n",
       "      <th>divCash</th>\n",
       "      <th>splitFactor</th>\n",
       "    </tr>\n",
       "  </thead>\n",
       "  <tbody>\n",
       "    <tr>\n",
       "      <th>0</th>\n",
       "      <td>AAPL</td>\n",
       "      <td>2019-08-30 00:00:00+00:00</td>\n",
       "      <td>208.74</td>\n",
       "      <td>210.45</td>\n",
       "      <td>207.20</td>\n",
       "      <td>210.16</td>\n",
       "      <td>21162561</td>\n",
       "      <td>50.499176</td>\n",
       "      <td>50.912866</td>\n",
       "      <td>50.126614</td>\n",
       "      <td>50.842708</td>\n",
       "      <td>84650244</td>\n",
       "      <td>0.0</td>\n",
       "      <td>1.0</td>\n",
       "    </tr>\n",
       "    <tr>\n",
       "      <th>1</th>\n",
       "      <td>AAPL</td>\n",
       "      <td>2019-09-03 00:00:00+00:00</td>\n",
       "      <td>205.70</td>\n",
       "      <td>206.98</td>\n",
       "      <td>204.22</td>\n",
       "      <td>206.43</td>\n",
       "      <td>20059574</td>\n",
       "      <td>49.763728</td>\n",
       "      <td>50.073390</td>\n",
       "      <td>49.405681</td>\n",
       "      <td>49.940332</td>\n",
       "      <td>80238296</td>\n",
       "      <td>0.0</td>\n",
       "      <td>1.0</td>\n",
       "    </tr>\n",
       "    <tr>\n",
       "      <th>2</th>\n",
       "      <td>AAPL</td>\n",
       "      <td>2019-09-04 00:00:00+00:00</td>\n",
       "      <td>209.19</td>\n",
       "      <td>209.48</td>\n",
       "      <td>207.32</td>\n",
       "      <td>208.39</td>\n",
       "      <td>19216820</td>\n",
       "      <td>50.608042</td>\n",
       "      <td>50.678200</td>\n",
       "      <td>50.155645</td>\n",
       "      <td>50.414503</td>\n",
       "      <td>76867280</td>\n",
       "      <td>0.0</td>\n",
       "      <td>1.0</td>\n",
       "    </tr>\n",
       "    <tr>\n",
       "      <th>3</th>\n",
       "      <td>AAPL</td>\n",
       "      <td>2019-09-05 00:00:00+00:00</td>\n",
       "      <td>213.28</td>\n",
       "      <td>213.97</td>\n",
       "      <td>211.51</td>\n",
       "      <td>212.00</td>\n",
       "      <td>23946984</td>\n",
       "      <td>51.597510</td>\n",
       "      <td>51.764438</td>\n",
       "      <td>51.169305</td>\n",
       "      <td>51.287848</td>\n",
       "      <td>95787936</td>\n",
       "      <td>0.0</td>\n",
       "      <td>1.0</td>\n",
       "    </tr>\n",
       "    <tr>\n",
       "      <th>4</th>\n",
       "      <td>AAPL</td>\n",
       "      <td>2019-09-06 00:00:00+00:00</td>\n",
       "      <td>213.26</td>\n",
       "      <td>214.42</td>\n",
       "      <td>212.51</td>\n",
       "      <td>214.05</td>\n",
       "      <td>19362294</td>\n",
       "      <td>51.592672</td>\n",
       "      <td>51.873304</td>\n",
       "      <td>51.411229</td>\n",
       "      <td>51.783792</td>\n",
       "      <td>77449176</td>\n",
       "      <td>0.0</td>\n",
       "      <td>1.0</td>\n",
       "    </tr>\n",
       "  </tbody>\n",
       "</table>\n",
       "</div>"
      ],
      "text/plain": [
       "  symbol                       date   close    high     low    open    volume  \\\n",
       "0   AAPL  2019-08-30 00:00:00+00:00  208.74  210.45  207.20  210.16  21162561   \n",
       "1   AAPL  2019-09-03 00:00:00+00:00  205.70  206.98  204.22  206.43  20059574   \n",
       "2   AAPL  2019-09-04 00:00:00+00:00  209.19  209.48  207.32  208.39  19216820   \n",
       "3   AAPL  2019-09-05 00:00:00+00:00  213.28  213.97  211.51  212.00  23946984   \n",
       "4   AAPL  2019-09-06 00:00:00+00:00  213.26  214.42  212.51  214.05  19362294   \n",
       "\n",
       "    adjClose    adjHigh     adjLow    adjOpen  adjVolume  divCash  splitFactor  \n",
       "0  50.499176  50.912866  50.126614  50.842708   84650244      0.0          1.0  \n",
       "1  49.763728  50.073390  49.405681  49.940332   80238296      0.0          1.0  \n",
       "2  50.608042  50.678200  50.155645  50.414503   76867280      0.0          1.0  \n",
       "3  51.597510  51.764438  51.169305  51.287848   95787936      0.0          1.0  \n",
       "4  51.592672  51.873304  51.411229  51.783792   77449176      0.0          1.0  "
      ]
     },
     "execution_count": 9,
     "metadata": {},
     "output_type": "execute_result"
    }
   ],
   "source": [
    " df.head()"
   ]
  },
  {
   "cell_type": "code",
   "execution_count": 10,
   "id": "c77b385a",
   "metadata": {},
   "outputs": [
    {
     "data": {
      "text/html": [
       "<div>\n",
       "<style scoped>\n",
       "    .dataframe tbody tr th:only-of-type {\n",
       "        vertical-align: middle;\n",
       "    }\n",
       "\n",
       "    .dataframe tbody tr th {\n",
       "        vertical-align: top;\n",
       "    }\n",
       "\n",
       "    .dataframe thead th {\n",
       "        text-align: right;\n",
       "    }\n",
       "</style>\n",
       "<table border=\"1\" class=\"dataframe\">\n",
       "  <thead>\n",
       "    <tr style=\"text-align: right;\">\n",
       "      <th></th>\n",
       "      <th>symbol</th>\n",
       "      <th>date</th>\n",
       "      <th>close</th>\n",
       "      <th>high</th>\n",
       "      <th>low</th>\n",
       "      <th>open</th>\n",
       "      <th>volume</th>\n",
       "      <th>adjClose</th>\n",
       "      <th>adjHigh</th>\n",
       "      <th>adjLow</th>\n",
       "      <th>adjOpen</th>\n",
       "      <th>adjVolume</th>\n",
       "      <th>divCash</th>\n",
       "      <th>splitFactor</th>\n",
       "    </tr>\n",
       "  </thead>\n",
       "  <tbody>\n",
       "    <tr>\n",
       "      <th>1251</th>\n",
       "      <td>AAPL</td>\n",
       "      <td>2024-08-21 00:00:00+00:00</td>\n",
       "      <td>226.40</td>\n",
       "      <td>227.98</td>\n",
       "      <td>225.0500</td>\n",
       "      <td>226.5200</td>\n",
       "      <td>34765480</td>\n",
       "      <td>226.40</td>\n",
       "      <td>227.98</td>\n",
       "      <td>225.0500</td>\n",
       "      <td>226.5200</td>\n",
       "      <td>34765480</td>\n",
       "      <td>0.0</td>\n",
       "      <td>1.0</td>\n",
       "    </tr>\n",
       "    <tr>\n",
       "      <th>1252</th>\n",
       "      <td>AAPL</td>\n",
       "      <td>2024-08-22 00:00:00+00:00</td>\n",
       "      <td>224.53</td>\n",
       "      <td>228.34</td>\n",
       "      <td>223.9000</td>\n",
       "      <td>227.7900</td>\n",
       "      <td>43695321</td>\n",
       "      <td>224.53</td>\n",
       "      <td>228.34</td>\n",
       "      <td>223.9000</td>\n",
       "      <td>227.7900</td>\n",
       "      <td>43695321</td>\n",
       "      <td>0.0</td>\n",
       "      <td>1.0</td>\n",
       "    </tr>\n",
       "    <tr>\n",
       "      <th>1253</th>\n",
       "      <td>AAPL</td>\n",
       "      <td>2024-08-23 00:00:00+00:00</td>\n",
       "      <td>226.84</td>\n",
       "      <td>228.22</td>\n",
       "      <td>224.3300</td>\n",
       "      <td>225.6589</td>\n",
       "      <td>38677250</td>\n",
       "      <td>226.84</td>\n",
       "      <td>228.22</td>\n",
       "      <td>224.3300</td>\n",
       "      <td>225.6589</td>\n",
       "      <td>38677250</td>\n",
       "      <td>0.0</td>\n",
       "      <td>1.0</td>\n",
       "    </tr>\n",
       "    <tr>\n",
       "      <th>1254</th>\n",
       "      <td>AAPL</td>\n",
       "      <td>2024-08-26 00:00:00+00:00</td>\n",
       "      <td>227.18</td>\n",
       "      <td>227.28</td>\n",
       "      <td>223.8905</td>\n",
       "      <td>226.7600</td>\n",
       "      <td>30602208</td>\n",
       "      <td>227.18</td>\n",
       "      <td>227.28</td>\n",
       "      <td>223.8905</td>\n",
       "      <td>226.7600</td>\n",
       "      <td>30602208</td>\n",
       "      <td>0.0</td>\n",
       "      <td>1.0</td>\n",
       "    </tr>\n",
       "    <tr>\n",
       "      <th>1255</th>\n",
       "      <td>AAPL</td>\n",
       "      <td>2024-08-27 00:00:00+00:00</td>\n",
       "      <td>228.03</td>\n",
       "      <td>228.85</td>\n",
       "      <td>224.8900</td>\n",
       "      <td>225.9950</td>\n",
       "      <td>35934559</td>\n",
       "      <td>228.03</td>\n",
       "      <td>228.85</td>\n",
       "      <td>224.8900</td>\n",
       "      <td>225.9950</td>\n",
       "      <td>35934559</td>\n",
       "      <td>0.0</td>\n",
       "      <td>1.0</td>\n",
       "    </tr>\n",
       "  </tbody>\n",
       "</table>\n",
       "</div>"
      ],
      "text/plain": [
       "     symbol                       date   close    high       low      open  \\\n",
       "1251   AAPL  2024-08-21 00:00:00+00:00  226.40  227.98  225.0500  226.5200   \n",
       "1252   AAPL  2024-08-22 00:00:00+00:00  224.53  228.34  223.9000  227.7900   \n",
       "1253   AAPL  2024-08-23 00:00:00+00:00  226.84  228.22  224.3300  225.6589   \n",
       "1254   AAPL  2024-08-26 00:00:00+00:00  227.18  227.28  223.8905  226.7600   \n",
       "1255   AAPL  2024-08-27 00:00:00+00:00  228.03  228.85  224.8900  225.9950   \n",
       "\n",
       "        volume  adjClose  adjHigh    adjLow   adjOpen  adjVolume  divCash  \\\n",
       "1251  34765480    226.40   227.98  225.0500  226.5200   34765480      0.0   \n",
       "1252  43695321    224.53   228.34  223.9000  227.7900   43695321      0.0   \n",
       "1253  38677250    226.84   228.22  224.3300  225.6589   38677250      0.0   \n",
       "1254  30602208    227.18   227.28  223.8905  226.7600   30602208      0.0   \n",
       "1255  35934559    228.03   228.85  224.8900  225.9950   35934559      0.0   \n",
       "\n",
       "      splitFactor  \n",
       "1251          1.0  \n",
       "1252          1.0  \n",
       "1253          1.0  \n",
       "1254          1.0  \n",
       "1255          1.0  "
      ]
     },
     "execution_count": 10,
     "metadata": {},
     "output_type": "execute_result"
    }
   ],
   "source": [
    "df.tail()"
   ]
  },
  {
   "cell_type": "code",
   "execution_count": 13,
   "id": "f189696f",
   "metadata": {},
   "outputs": [],
   "source": [
    "df1 = df.reset_index()['close']"
   ]
  },
  {
   "cell_type": "code",
   "execution_count": 17,
   "id": "bc7d8d0b",
   "metadata": {},
   "outputs": [
    {
     "data": {
      "text/plain": [
       "0       208.74\n",
       "1       205.70\n",
       "2       209.19\n",
       "3       213.28\n",
       "4       213.26\n",
       "         ...  \n",
       "1251    226.40\n",
       "1252    224.53\n",
       "1253    226.84\n",
       "1254    227.18\n",
       "1255    228.03\n",
       "Name: close, Length: 1256, dtype: float64"
      ]
     },
     "execution_count": 17,
     "metadata": {},
     "output_type": "execute_result"
    }
   ],
   "source": [
    "df1"
   ]
  },
  {
   "cell_type": "code",
   "execution_count": 20,
   "id": "4cbe69e5",
   "metadata": {},
   "outputs": [
    {
     "data": {
      "text/plain": [
       "[<matplotlib.lines.Line2D at 0x13d166e90>]"
      ]
     },
     "execution_count": 20,
     "metadata": {},
     "output_type": "execute_result"
    },
    {
     "data": {
      "image/png": "[encoded data removed]",
      "text/plain": [
       "<Figure size 640x480 with 1 Axes>"
      ]
     },
     "metadata": {},
     "output_type": "display_data"
    }
   ],
   "source": [
    "import matplotlib.pyplot as plt\n",
    "plt.plot(df1)"
   ]
  },
  {
   "cell_type": "code",
   "execution_count": 21,
   "id": "56be6b6f",
   "metadata": {},
   "outputs": [],
   "source": [
    "import numpy as np\n",
    "df1"
   ]
  },
  {
   "cell_type": "code",
   "execution_count": 22,
   "id": "d7b8367f",
   "metadata": {},
   "outputs": [],
   "source": [
    "### LSTM are sensitive to the scale of the data. so we apply MinMax scalen\n",
    "from sklearn.preprocessing import MinMaxScaler \n",
    "scaler=MinMaxScaler (feature_range=(0,1))\n",
    "df1=scaler.fit_transform(np.array(df1).reshape(-1,1))"
   ]
  },
  {
   "cell_type": "code",
   "execution_count": 23,
   "id": "70797630",
   "metadata": {},
   "outputs": [
    {
     "data": {
      "text/plain": [
       "(1256, 1)"
      ]
     },
     "execution_count": 23,
     "metadata": {},
     "output_type": "execute_result"
    }
   ],
   "source": [
    "df1.shape\n"
   ]
  },
  {
   "cell_type": "code",
   "execution_count": 24,
   "id": "687b590f",
   "metadata": {},
   "outputs": [
    {
     "data": {
      "text/plain": [
       "array([[0.25522855],\n",
       "       [0.24761428],\n",
       "       [0.25635567],\n",
       "       ...,\n",
       "       [0.30056356],\n",
       "       [0.30141515],\n",
       "       [0.30354415]])"
      ]
     },
     "execution_count": 24,
     "metadata": {},
     "output_type": "execute_result"
    }
   ],
   "source": [
    "df1"
   ]
  },
  {
   "cell_type": "code",
   "execution_count": 25,
   "id": "7dacfe86",
   "metadata": {},
   "outputs": [],
   "source": [
    "##splitting dataset into train and test split\n",
    "training_size=int(len(df1) *0.70) \n",
    "test_size=len(df1)-training_size\n",
    "train_data, test_data=df1[0:training_size, :],df1[training_size:len(df1),:1]"
   ]
  },
  {
   "cell_type": "code",
   "execution_count": 26,
   "id": "4b214eaf",
   "metadata": {},
   "outputs": [
    {
     "data": {
      "text/plain": [
       "(879, 377)"
      ]
     },
     "execution_count": 26,
     "metadata": {},
     "output_type": "execute_result"
    }
   ],
   "source": [
    "training_size, test_size"
   ]
  },
  {
   "cell_type": "code",
   "execution_count": 28,
   "id": "d43988fb",
   "metadata": {},
   "outputs": [],
   "source": [
    "import numpy\n",
    "\n",
    "# convert an array of values into a dataset matrix\n",
    "\n",
    "def create_dataset(dataset, time_step=1) :\n",
    "\n",
    "    dataX, dataY = [], []\n",
    "\n",
    "    for i in range(len(dataset) -time_step-1):\n",
    "\n",
    "        a = dataset[i: (i+time_step), 0]\n",
    "\n",
    "        dataX.append(a)\n",
    "\n",
    "        dataY.append(dataset[i + time_step, 0])\n",
    "\n",
    "    return numpy.array(dataX), numpy.array(dataY)"
   ]
  },
  {
   "cell_type": "code",
   "execution_count": 29,
   "id": "fdadafee",
   "metadata": {},
   "outputs": [],
   "source": [
    "#reshape into X=t,t+1,t+2,t+3 and Y=t+4\n",
    "time_step = 100\n",
    "x_train, y_train = create_dataset (train_data, time_step)\n",
    "x_test, y_test = create_dataset (test_data, time_step)"
   ]
  },
  {
   "cell_type": "code",
   "execution_count": 30,
   "id": "be4c0bf5",
   "metadata": {},
   "outputs": [
    {
     "name": "stdout",
     "output_type": "stream",
     "text": [
      "[[0.25522855 0.24761428 0.25635567 ... 0.52530996 0.52814026 0.53197245]\n",
      " [0.24761428 0.25635567 0.26659987 ... 0.52814026 0.53197245 0.52966813]\n",
      " [0.25635567 0.26659987 0.26654978 ... 0.53197245 0.52966813 0.50622417]\n",
      " ...\n",
      " [0.10770194 0.08926738 0.07854728 ... 0.11739512 0.11448967 0.10429555]\n",
      " [0.08926738 0.07854728 0.08919224 ... 0.11448967 0.10429555 0.10537257]\n",
      " [0.07854728 0.08919224 0.09833438 ... 0.10429555 0.10537257 0.10659987]]\n"
     ]
    }
   ],
   "source": [
    "print(x_train)"
   ]
  },
  {
   "cell_type": "code",
   "execution_count": 31,
   "id": "b113f291",
   "metadata": {},
   "outputs": [
    {
     "name": "stdout",
     "output_type": "stream",
     "text": [
      "(276, 100)\n",
      "(276,)\n"
     ]
    },
    {
     "data": {
      "text/plain": [
       "(None, None)"
      ]
     },
     "execution_count": 31,
     "metadata": {},
     "output_type": "execute_result"
    }
   ],
   "source": [
    "print(x_test.shape), print(y_test.shape)"
   ]
  },
  {
   "cell_type": "code",
   "execution_count": 34,
   "id": "773e7ff7",
   "metadata": {},
   "outputs": [],
   "source": [
    "#reshape input to be [samples, time steps, features] which is required for LSTM\n",
    "x_train =x_train. reshape(x_train. shape[0],x_train.shape[1] , 1)\n",
    "x_test = x_test. reshape(x_test. shape[0],x_test.shape [1] , 1)"
   ]
  },
  {
   "cell_type": "code",
   "execution_count": 35,
   "id": "7bd92a84",
   "metadata": {},
   "outputs": [],
   "source": [
    "\n",
    "### Create the LSTM model\n",
    "from tensorflow.keras.models import Sequential \n",
    "from tensorflow.keras.layers import Dense \n",
    "from tensorflow. keras.layers import LSTM"
   ]
  },
  {
   "cell_type": "code",
   "execution_count": 36,
   "id": "b783d11c",
   "metadata": {},
   "outputs": [],
   "source": [
    "model = Sequential()\n",
    "model.add(LSTM(50, input_shape=(100, 1)))\n",
    "model.add(Dense(1))\n",
    "model.compile(loss='mean_squared_error', optimizer='adam')\n"
   ]
  },
  {
   "cell_type": "code",
   "execution_count": 37,
   "id": "79b1f169",
   "metadata": {},
   "outputs": [
    {
     "name": "stdout",
     "output_type": "stream",
     "text": [
      "Model: \"sequential\"\n",
      "_________________________________________________________________\n",
      " Layer (type)                Output Shape              Param #   \n",
      "=================================================================\n",
      " lstm (LSTM)                 (None, 50)                10400     \n",
      "                                                                 \n",
      " dense (Dense)               (None, 1)                 51        \n",
      "                                                                 \n",
      "=================================================================\n",
      "Total params: 10451 (40.82 KB)\n",
      "Trainable params: 10451 (40.82 KB)\n",
      "Non-trainable params: 0 (0.00 Byte)\n",
      "_________________________________________________________________\n"
     ]
    }
   ],
   "source": [
    "model.summary()"
   ]
  },
  {
   "cell_type": "code",
   "execution_count": 38,
   "id": "a0f8b7cd",
   "metadata": {},
   "outputs": [
    {
     "name": "stdout",
     "output_type": "stream",
     "text": [
      "Epoch 1/100\n",
      "13/13 [==============================] - 2s 37ms/step - loss: 0.0457 - val_loss: 0.0041\n",
      "Epoch 2/100\n",
      "13/13 [==============================] - 0s 28ms/step - loss: 0.0131 - val_loss: 7.4587e-04\n",
      "Epoch 3/100\n",
      "13/13 [==============================] - 0s 27ms/step - loss: 0.0077 - val_loss: 5.5033e-04\n",
      "Epoch 4/100\n",
      "13/13 [==============================] - 0s 22ms/step - loss: 0.0063 - val_loss: 6.0113e-04\n",
      "Epoch 5/100\n",
      "13/13 [==============================] - 0s 21ms/step - loss: 0.0059 - val_loss: 3.0709e-04\n",
      "Epoch 6/100\n",
      "13/13 [==============================] - 0s 22ms/step - loss: 0.0054 - val_loss: 3.5481e-04\n",
      "Epoch 7/100\n",
      "13/13 [==============================] - 0s 23ms/step - loss: 0.0051 - val_loss: 6.5314e-04\n",
      "Epoch 8/100\n",
      "13/13 [==============================] - 0s 25ms/step - loss: 0.0057 - val_loss: 2.7116e-04\n",
      "Epoch 9/100\n",
      "13/13 [==============================] - 0s 24ms/step - loss: 0.0049 - val_loss: 2.2551e-04\n",
      "Epoch 10/100\n",
      "13/13 [==============================] - 0s 22ms/step - loss: 0.0042 - val_loss: 2.7977e-04\n",
      "Epoch 11/100\n",
      "13/13 [==============================] - 0s 22ms/step - loss: 0.0040 - val_loss: 2.0421e-04\n",
      "Epoch 12/100\n",
      "13/13 [==============================] - 0s 24ms/step - loss: 0.0038 - val_loss: 2.0708e-04\n",
      "Epoch 13/100\n",
      "13/13 [==============================] - 0s 23ms/step - loss: 0.0037 - val_loss: 3.0332e-04\n",
      "Epoch 14/100\n",
      "13/13 [==============================] - 0s 22ms/step - loss: 0.0034 - val_loss: 1.9069e-04\n",
      "Epoch 15/100\n",
      "13/13 [==============================] - 0s 22ms/step - loss: 0.0032 - val_loss: 2.6056e-04\n",
      "Epoch 16/100\n",
      "13/13 [==============================] - 0s 23ms/step - loss: 0.0030 - val_loss: 2.8774e-04\n",
      "Epoch 17/100\n",
      "13/13 [==============================] - 0s 25ms/step - loss: 0.0029 - val_loss: 2.0123e-04\n",
      "Epoch 18/100\n",
      "13/13 [==============================] - 0s 23ms/step - loss: 0.0029 - val_loss: 7.0106e-04\n",
      "Epoch 19/100\n",
      "13/13 [==============================] - 0s 23ms/step - loss: 0.0030 - val_loss: 2.2318e-04\n",
      "Epoch 20/100\n",
      "13/13 [==============================] - 0s 23ms/step - loss: 0.0028 - val_loss: 2.1237e-04\n",
      "Epoch 21/100\n",
      "13/13 [==============================] - 0s 23ms/step - loss: 0.0027 - val_loss: 7.5523e-04\n",
      "Epoch 22/100\n",
      "13/13 [==============================] - 0s 22ms/step - loss: 0.0026 - val_loss: 1.7660e-04\n",
      "Epoch 23/100\n",
      "13/13 [==============================] - 0s 21ms/step - loss: 0.0025 - val_loss: 3.3531e-04\n",
      "Epoch 24/100\n",
      "13/13 [==============================] - 0s 22ms/step - loss: 0.0024 - val_loss: 3.3542e-04\n",
      "Epoch 25/100\n",
      "13/13 [==============================] - 0s 24ms/step - loss: 0.0024 - val_loss: 2.3133e-04\n",
      "Epoch 26/100\n",
      "13/13 [==============================] - 0s 22ms/step - loss: 0.0025 - val_loss: 4.3554e-04\n",
      "Epoch 27/100\n",
      "13/13 [==============================] - 0s 23ms/step - loss: 0.0024 - val_loss: 1.7957e-04\n",
      "Epoch 28/100\n",
      "13/13 [==============================] - 0s 22ms/step - loss: 0.0023 - val_loss: 1.9596e-04\n",
      "Epoch 29/100\n",
      "13/13 [==============================] - 0s 21ms/step - loss: 0.0022 - val_loss: 1.5951e-04\n",
      "Epoch 30/100\n",
      "13/13 [==============================] - 0s 23ms/step - loss: 0.0023 - val_loss: 2.1745e-04\n",
      "Epoch 31/100\n",
      "13/13 [==============================] - 0s 23ms/step - loss: 0.0023 - val_loss: 1.6827e-04\n",
      "Epoch 32/100\n",
      "13/13 [==============================] - 0s 22ms/step - loss: 0.0025 - val_loss: 4.1478e-04\n",
      "Epoch 33/100\n",
      "13/13 [==============================] - 0s 24ms/step - loss: 0.0024 - val_loss: 1.6092e-04\n",
      "Epoch 34/100\n",
      "13/13 [==============================] - 0s 22ms/step - loss: 0.0022 - val_loss: 1.5619e-04\n",
      "Epoch 35/100\n",
      "13/13 [==============================] - 0s 23ms/step - loss: 0.0022 - val_loss: 4.2699e-04\n",
      "Epoch 36/100\n",
      "13/13 [==============================] - 0s 23ms/step - loss: 0.0022 - val_loss: 1.7591e-04\n",
      "Epoch 37/100\n",
      "13/13 [==============================] - 0s 23ms/step - loss: 0.0021 - val_loss: 1.9451e-04\n",
      "Epoch 38/100\n",
      "13/13 [==============================] - 0s 24ms/step - loss: 0.0022 - val_loss: 3.1670e-04\n",
      "Epoch 39/100\n",
      "13/13 [==============================] - 0s 21ms/step - loss: 0.0021 - val_loss: 1.6806e-04\n",
      "Epoch 40/100\n",
      "13/13 [==============================] - 0s 23ms/step - loss: 0.0020 - val_loss: 1.4959e-04\n",
      "Epoch 41/100\n",
      "13/13 [==============================] - 0s 25ms/step - loss: 0.0019 - val_loss: 2.1663e-04\n",
      "Epoch 42/100\n",
      "13/13 [==============================] - 0s 23ms/step - loss: 0.0018 - val_loss: 1.5786e-04\n",
      "Epoch 43/100\n",
      "13/13 [==============================] - 0s 22ms/step - loss: 0.0018 - val_loss: 1.7415e-04\n",
      "Epoch 44/100\n",
      "13/13 [==============================] - 0s 23ms/step - loss: 0.0018 - val_loss: 1.5083e-04\n",
      "Epoch 45/100\n",
      "13/13 [==============================] - 0s 23ms/step - loss: 0.0017 - val_loss: 1.4970e-04\n",
      "Epoch 46/100\n",
      "13/13 [==============================] - 0s 27ms/step - loss: 0.0017 - val_loss: 1.8632e-04\n",
      "Epoch 47/100\n",
      "13/13 [==============================] - 0s 24ms/step - loss: 0.0016 - val_loss: 1.6545e-04\n",
      "Epoch 48/100\n",
      "13/13 [==============================] - 0s 23ms/step - loss: 0.0019 - val_loss: 1.6899e-04\n",
      "Epoch 49/100\n",
      "13/13 [==============================] - 0s 23ms/step - loss: 0.0016 - val_loss: 1.4316e-04\n",
      "Epoch 50/100\n",
      "13/13 [==============================] - 0s 27ms/step - loss: 0.0016 - val_loss: 1.7067e-04\n",
      "Epoch 51/100\n",
      "13/13 [==============================] - 0s 27ms/step - loss: 0.0016 - val_loss: 1.4829e-04\n",
      "Epoch 52/100\n",
      "13/13 [==============================] - 0s 27ms/step - loss: 0.0019 - val_loss: 3.2441e-04\n",
      "Epoch 53/100\n",
      "13/13 [==============================] - 0s 25ms/step - loss: 0.0017 - val_loss: 3.3182e-04\n",
      "Epoch 54/100\n",
      "13/13 [==============================] - 0s 25ms/step - loss: 0.0016 - val_loss: 2.1174e-04\n",
      "Epoch 55/100\n",
      "13/13 [==============================] - 0s 24ms/step - loss: 0.0014 - val_loss: 1.4290e-04\n",
      "Epoch 56/100\n",
      "13/13 [==============================] - 0s 25ms/step - loss: 0.0023 - val_loss: 1.8063e-04\n",
      "Epoch 57/100\n",
      "13/13 [==============================] - 0s 22ms/step - loss: 0.0023 - val_loss: 2.5034e-04\n",
      "Epoch 58/100\n",
      "13/13 [==============================] - 0s 25ms/step - loss: 0.0023 - val_loss: 1.3805e-04\n",
      "Epoch 59/100\n",
      "13/13 [==============================] - 0s 25ms/step - loss: 0.0022 - val_loss: 1.4372e-04\n",
      "Epoch 60/100\n",
      "13/13 [==============================] - 0s 24ms/step - loss: 0.0020 - val_loss: 1.3652e-04\n",
      "Epoch 61/100\n",
      "13/13 [==============================] - 0s 23ms/step - loss: 0.0019 - val_loss: 1.8152e-04\n",
      "Epoch 62/100\n",
      "13/13 [==============================] - 0s 23ms/step - loss: 0.0018 - val_loss: 1.2779e-04\n",
      "Epoch 63/100\n",
      "13/13 [==============================] - 0s 22ms/step - loss: 0.0017 - val_loss: 1.2714e-04\n",
      "Epoch 64/100\n",
      "13/13 [==============================] - 0s 22ms/step - loss: 0.0017 - val_loss: 1.3234e-04\n",
      "Epoch 65/100\n",
      "13/13 [==============================] - 0s 23ms/step - loss: 0.0016 - val_loss: 1.8753e-04\n",
      "Epoch 66/100\n",
      "13/13 [==============================] - 0s 23ms/step - loss: 0.0016 - val_loss: 1.4754e-04\n",
      "Epoch 67/100\n",
      "13/13 [==============================] - 0s 24ms/step - loss: 0.0015 - val_loss: 2.1336e-04\n",
      "Epoch 68/100\n",
      "13/13 [==============================] - 0s 23ms/step - loss: 0.0021 - val_loss: 5.4740e-04\n",
      "Epoch 69/100\n",
      "13/13 [==============================] - 0s 27ms/step - loss: 0.0017 - val_loss: 2.2413e-04\n",
      "Epoch 70/100\n",
      "13/13 [==============================] - 0s 25ms/step - loss: 0.0015 - val_loss: 1.6409e-04\n",
      "Epoch 71/100\n",
      "13/13 [==============================] - 0s 23ms/step - loss: 0.0014 - val_loss: 1.4488e-04\n",
      "Epoch 72/100\n",
      "13/13 [==============================] - 0s 21ms/step - loss: 0.0014 - val_loss: 1.2856e-04\n",
      "Epoch 73/100\n",
      "13/13 [==============================] - 0s 23ms/step - loss: 0.0014 - val_loss: 1.9476e-04\n",
      "Epoch 74/100\n",
      "13/13 [==============================] - 0s 24ms/step - loss: 0.0013 - val_loss: 1.4855e-04\n",
      "Epoch 75/100\n",
      "13/13 [==============================] - 0s 23ms/step - loss: 0.0012 - val_loss: 2.8613e-04\n",
      "Epoch 76/100\n",
      "13/13 [==============================] - 0s 23ms/step - loss: 0.0024 - val_loss: 1.4516e-04\n",
      "Epoch 77/100\n",
      "13/13 [==============================] - 0s 23ms/step - loss: 0.0020 - val_loss: 6.1839e-04\n",
      "Epoch 78/100\n",
      "13/13 [==============================] - 0s 26ms/step - loss: 0.0018 - val_loss: 2.1504e-04\n",
      "Epoch 79/100\n",
      "13/13 [==============================] - 0s 23ms/step - loss: 0.0014 - val_loss: 2.5855e-04\n",
      "Epoch 80/100\n",
      "13/13 [==============================] - 0s 24ms/step - loss: 0.0013 - val_loss: 1.2879e-04\n",
      "Epoch 81/100\n",
      "13/13 [==============================] - 0s 22ms/step - loss: 0.0021 - val_loss: 6.9111e-04\n",
      "Epoch 82/100\n",
      "13/13 [==============================] - 0s 22ms/step - loss: 0.0035 - val_loss: 3.3694e-04\n",
      "Epoch 83/100\n",
      "13/13 [==============================] - 0s 24ms/step - loss: 0.0024 - val_loss: 2.0712e-04\n",
      "Epoch 84/100\n",
      "13/13 [==============================] - 0s 22ms/step - loss: 0.0018 - val_loss: 1.2214e-04\n",
      "Epoch 85/100\n",
      "13/13 [==============================] - 0s 23ms/step - loss: 0.0015 - val_loss: 1.1490e-04\n",
      "Epoch 86/100\n",
      "13/13 [==============================] - 0s 23ms/step - loss: 0.0014 - val_loss: 1.2532e-04\n",
      "Epoch 87/100\n",
      "13/13 [==============================] - 0s 22ms/step - loss: 0.0013 - val_loss: 1.2264e-04\n",
      "Epoch 88/100\n",
      "13/13 [==============================] - 0s 24ms/step - loss: 0.0013 - val_loss: 2.5333e-04\n",
      "Epoch 89/100\n",
      "13/13 [==============================] - 0s 23ms/step - loss: 0.0013 - val_loss: 1.3240e-04\n",
      "Epoch 90/100\n",
      "13/13 [==============================] - 0s 25ms/step - loss: 0.0012 - val_loss: 1.4996e-04\n",
      "Epoch 91/100\n",
      "13/13 [==============================] - 0s 24ms/step - loss: 0.0012 - val_loss: 1.2293e-04\n",
      "Epoch 92/100\n",
      "13/13 [==============================] - 0s 28ms/step - loss: 0.0013 - val_loss: 1.2077e-04\n",
      "Epoch 93/100\n",
      "13/13 [==============================] - 0s 24ms/step - loss: 0.0012 - val_loss: 1.4859e-04\n",
      "Epoch 94/100\n",
      "13/13 [==============================] - 0s 24ms/step - loss: 0.0011 - val_loss: 1.2045e-04\n",
      "Epoch 95/100\n",
      "13/13 [==============================] - 0s 24ms/step - loss: 0.0011 - val_loss: 1.1940e-04\n",
      "Epoch 96/100\n",
      "13/13 [==============================] - 0s 22ms/step - loss: 0.0010 - val_loss: 1.1982e-04\n",
      "Epoch 97/100\n",
      "13/13 [==============================] - 0s 22ms/step - loss: 9.9197e-04 - val_loss: 1.2972e-04\n",
      "Epoch 98/100\n",
      "13/13 [==============================] - 0s 23ms/step - loss: 0.0011 - val_loss: 1.1654e-04\n",
      "Epoch 99/100\n",
      "13/13 [==============================] - 0s 25ms/step - loss: 0.0011 - val_loss: 1.8234e-04\n",
      "Epoch 100/100\n",
      "13/13 [==============================] - 0s 21ms/step - loss: 0.0011 - val_loss: 1.1700e-04\n"
     ]
    },
    {
     "data": {
      "text/plain": [
       "<keras.src.callbacks.History at 0x15e3ff990>"
      ]
     },
     "execution_count": 38,
     "metadata": {},
     "output_type": "execute_result"
    }
   ],
   "source": [
    "model. fit(x_train,y_train, validation_data=(x_test,y_test), epochs=100, batch_size=64, verbose=1)"
   ]
  },
  {
   "cell_type": "code",
   "execution_count": 39,
   "id": "d08d5ba6",
   "metadata": {},
   "outputs": [],
   "source": [
    "import tensorflow as tf"
   ]
  },
  {
   "cell_type": "code",
   "execution_count": 41,
   "id": "c9f58f4a",
   "metadata": {},
   "outputs": [
    {
     "name": "stdout",
     "output_type": "stream",
     "text": [
      "25/25 [==============================] - 0s 4ms/step\n",
      "9/9 [==============================] - 0s 4ms/step\n"
     ]
    }
   ],
   "source": [
    "### Lets Do the prediction and check performance metrics \n",
    "train_predict=model.predict(x_train)\n",
    "test_predict=model.predict(x_test)"
   ]
  },
  {
   "cell_type": "code",
   "execution_count": 42,
   "id": "c32da18c",
   "metadata": {},
   "outputs": [],
   "source": [
    "##Transformback to original form\n",
    "train_predict=scaler.inverse_transform(train_predict) \n",
    "test_predict=scaler.inverse_transform(test_predict)"
   ]
  },
  {
   "cell_type": "code",
   "execution_count": 44,
   "id": "785509e8",
   "metadata": {},
   "outputs": [
    {
     "data": {
      "text/plain": [
       "199.59216483214144"
      ]
     },
     "execution_count": 44,
     "metadata": {},
     "output_type": "execute_result"
    }
   ],
   "source": [
    "### Calculate RMSE performance metrics \n",
    "import math\n",
    "from sklearn.metrics import mean_squared_error \n",
    "math.sqrt(mean_squared_error (y_train,train_predict))"
   ]
  },
  {
   "cell_type": "code",
   "execution_count": 45,
   "id": "df7c1c2e",
   "metadata": {},
   "outputs": [
    {
     "data": {
      "text/plain": [
       "188.9902750346461"
      ]
     },
     "execution_count": 45,
     "metadata": {},
     "output_type": "execute_result"
    }
   ],
   "source": [
    "### Test Data RMSE\n",
    "math. sqrt (mean_squared_error (y_test,test_predict))"
   ]
  },
  {
   "cell_type": "code",
   "execution_count": 49,
   "id": "c1def0da",
   "metadata": {},
   "outputs": [
    {
     "data": {
      "image/png": "[encoded data removed]",
      "text/plain": [
       "<Figure size 640x480 with 1 Axes>"
      ]
     },
     "metadata": {},
     "output_type": "display_data"
    }
   ],
   "source": [
    "### Plotting\n",
    "# shift train predictions for plotting\n",
    "look_back=100\n",
    "trainPredictPlot = numpy.empty_like(df1)\n",
    "trainPredictPlot[:, :] = np.nan\n",
    "trainPredictPlot[look_back:len(train_predict)+look_back, :] = train_predict\n",
    "# shift test predictions for plotting\n",
    "testPredictPlot = numpy. empty_like(df1)\n",
    "testPredictPlot[:, :] = numpy.nan\n",
    "testPredictPlot[len(train_predict)+(look_back*2)+1:len(df1)-1, :] = test_predict\n",
    "# plot baseline and predictions\n",
    "plt. plot(scaler. inverse_transform(df1))\n",
    "plt.plot(trainPredictPlot)\n",
    "plt.plot(testPredictPlot)\n",
    "plt.show()"
   ]
  },
  {
   "cell_type": "code",
   "execution_count": 50,
   "id": "f5ebcb6c",
   "metadata": {},
   "outputs": [
    {
     "data": {
      "text/plain": [
       "377"
      ]
     },
     "execution_count": 50,
     "metadata": {},
     "output_type": "execute_result"
    }
   ],
   "source": [
    "len(test_data)"
   ]
  },
  {
   "cell_type": "code",
   "execution_count": 51,
   "id": "5f731abc",
   "metadata": {},
   "outputs": [
    {
     "data": {
      "text/plain": [
       "(1, 100)"
      ]
     },
     "execution_count": 51,
     "metadata": {},
     "output_type": "execute_result"
    }
   ],
   "source": [
    "x_input=test_data[277:].reshape (1, -1)\n",
    "x_input.shape"
   ]
  },
  {
   "cell_type": "code",
   "execution_count": 52,
   "id": "264e17d1",
   "metadata": {},
   "outputs": [],
   "source": [
    "temp_input=list(x_input)\n",
    "temp_input=temp_input[0].tolist()"
   ]
  },
  {
   "cell_type": "code",
   "execution_count": 53,
   "id": "f2e19b97",
   "metadata": {},
   "outputs": [
    {
     "data": {
      "text/plain": [
       "[0.1571446462116468,\n",
       " 0.1543143393863493,\n",
       " 0.15737006887914834,\n",
       " 0.1526361928616155,\n",
       " 0.1708202880400751,\n",
       " 0.17460237946149026,\n",
       " 0.16493425172197868,\n",
       " 0.1566437069505322,\n",
       " 0.15318722604884155,\n",
       " 0.1507827175954915,\n",
       " 0.1456731371321227,\n",
       " 0.14777708202880396,\n",
       " 0.15043206011271132,\n",
       " 0.15574201628052597,\n",
       " 0.15792110206637439,\n",
       " 0.1564433312460864,\n",
       " 0.16696305572949277,\n",
       " 0.15902316844082653,\n",
       " 0.1564433312460864,\n",
       " 0.16578584846587346,\n",
       " 0.19170945522855348,\n",
       " 0.1875266123982467,\n",
       " 0.189254852849092,\n",
       " 0.19010644959298684,\n",
       " 0.1946900438321853,\n",
       " 0.19088290544771447,\n",
       " 0.19897307451471502,\n",
       " 0.20185347526612396,\n",
       " 0.207589229805886,\n",
       " 0.20788979336255475,\n",
       " 0.20796493425172197,\n",
       " 0.2108954289292423,\n",
       " 0.21417658108954285,\n",
       " 0.2105447714464621,\n",
       " 0.2004758922980588,\n",
       " 0.20824045084533493,\n",
       " 0.2082654978083907,\n",
       " 0.20901690670006257,\n",
       " 0.2115216030056355,\n",
       " 0.21392611145898555,\n",
       " 0.2183844708829054,\n",
       " 0.2191859737006887,\n",
       " 0.22299311208515965,\n",
       " 0.21951158422041323,\n",
       " 0.22554790231684402,\n",
       " 0.216105197244834,\n",
       " 0.25124608641202256,\n",
       " 0.2660738885410144,\n",
       " 0.26900438321853476,\n",
       " 0.2646211646837821,\n",
       " 0.275090795241077,\n",
       " 0.26912961803381336,\n",
       " 0.2575829680651221,\n",
       " 0.25209768315591735,\n",
       " 0.25372573575453966,\n",
       " 0.25605510331872255,\n",
       " 0.26652473387601744,\n",
       " 0.26865372573575447,\n",
       " 0.2599373825923606,\n",
       " 0.27529117094552286,\n",
       " 0.2841077019411396,\n",
       " 0.287313713212273,\n",
       " 0.29931120851596743,\n",
       " 0.30301815904821533,\n",
       " 0.3051721978710081,\n",
       " 0.3159423919849717,\n",
       " 0.3023919849718221,\n",
       " 0.30983093299937375,\n",
       " 0.3194990607388854,\n",
       " 0.32055103318722594,\n",
       " 0.3056731371321227,\n",
       " 0.29390106449592984,\n",
       " 0.2942266750156543,\n",
       " 0.2933500313087038,\n",
       " 0.2959799624295553,\n",
       " 0.2797745773324984,\n",
       " 0.27714464621164686,\n",
       " 0.2783218534752661,\n",
       " 0.2790231684408265,\n",
       " 0.2804257983719474,\n",
       " 0.2886412022542267,\n",
       " 0.27932373199749533,\n",
       " 0.28308077645585467,\n",
       " 0.25655604257983716,\n",
       " 0.2514464621164683,\n",
       " 0.2579336255479023,\n",
       " 0.26667501565435187,\n",
       " 0.2740137758296806,\n",
       " 0.27724483406386974,\n",
       " 0.28661239824671253,\n",
       " 0.28773951158422034,\n",
       " 0.29525360050093924,\n",
       " 0.29858484658735124,\n",
       " 0.2981840951784595,\n",
       " 0.29973700688791477,\n",
       " 0.29946149029430175,\n",
       " 0.29477770820288035,\n",
       " 0.30056355666875384,\n",
       " 0.30141515341264863,\n",
       " 0.30354414527238566]"
      ]
     },
     "execution_count": 53,
     "metadata": {},
     "output_type": "execute_result"
    }
   ],
   "source": [
    "temp_input"
   ]
  },
  {
   "cell_type": "code",
   "execution_count": 55,
   "id": "74098b19",
   "metadata": {},
   "outputs": [
    {
     "name": "stdout",
     "output_type": "stream",
     "text": [
      "[0.3038929]\n",
      "101\n",
      "1 day input [0.15431434 0.15737007 0.15263619 0.17082029 0.17460238 0.16493425\n",
      " 0.15664371 0.15318723 0.15078272 0.14567314 0.14777708 0.15043206\n",
      " 0.15574202 0.1579211  0.15644333 0.16696306 0.15902317 0.15644333\n",
      " 0.16578585 0.19170946 0.18752661 0.18925485 0.19010645 0.19469004\n",
      " 0.19088291 0.19897307 0.20185348 0.20758923 0.20788979 0.20796493\n",
      " 0.21089543 0.21417658 0.21054477 0.20047589 0.20824045 0.2082655\n",
      " 0.20901691 0.2115216  0.21392611 0.21838447 0.21918597 0.22299311\n",
      " 0.21951158 0.2255479  0.2161052  0.25124609 0.26607389 0.26900438\n",
      " 0.26462116 0.2750908  0.26912962 0.25758297 0.25209768 0.25372574\n",
      " 0.2560551  0.26652473 0.26865373 0.25993738 0.27529117 0.2841077\n",
      " 0.28731371 0.29931121 0.30301816 0.3051722  0.31594239 0.30239198\n",
      " 0.30983093 0.31949906 0.32055103 0.30567314 0.29390106 0.29422668\n",
      " 0.29335003 0.29597996 0.27977458 0.27714465 0.27832185 0.27902317\n",
      " 0.2804258  0.2886412  0.27932373 0.28308078 0.25655604 0.25144646\n",
      " 0.25793363 0.26667502 0.27401378 0.27724483 0.2866124  0.28773951\n",
      " 0.2952536  0.29858485 0.2981841  0.29973701 0.29946149 0.29477771\n",
      " 0.30056356 0.30141515 0.30354415 0.30389291]\n",
      "1 day output [[0.3053744]]\n",
      "2 day input [0.15737007 0.15263619 0.17082029 0.17460238 0.16493425 0.15664371\n",
      " 0.15318723 0.15078272 0.14567314 0.14777708 0.15043206 0.15574202\n",
      " 0.1579211  0.15644333 0.16696306 0.15902317 0.15644333 0.16578585\n",
      " 0.19170946 0.18752661 0.18925485 0.19010645 0.19469004 0.19088291\n",
      " 0.19897307 0.20185348 0.20758923 0.20788979 0.20796493 0.21089543\n",
      " 0.21417658 0.21054477 0.20047589 0.20824045 0.2082655  0.20901691\n",
      " 0.2115216  0.21392611 0.21838447 0.21918597 0.22299311 0.21951158\n",
      " 0.2255479  0.2161052  0.25124609 0.26607389 0.26900438 0.26462116\n",
      " 0.2750908  0.26912962 0.25758297 0.25209768 0.25372574 0.2560551\n",
      " 0.26652473 0.26865373 0.25993738 0.27529117 0.2841077  0.28731371\n",
      " 0.29931121 0.30301816 0.3051722  0.31594239 0.30239198 0.30983093\n",
      " 0.31949906 0.32055103 0.30567314 0.29390106 0.29422668 0.29335003\n",
      " 0.29597996 0.27977458 0.27714465 0.27832185 0.27902317 0.2804258\n",
      " 0.2886412  0.27932373 0.28308078 0.25655604 0.25144646 0.25793363\n",
      " 0.26667502 0.27401378 0.27724483 0.2866124  0.28773951 0.2952536\n",
      " 0.29858485 0.2981841  0.29973701 0.29946149 0.29477771 0.30056356\n",
      " 0.30141515 0.30354415 0.30389291 0.30537441]\n",
      "2 day output [[0.3068077]]\n",
      "3 day input [0.15263619 0.17082029 0.17460238 0.16493425 0.15664371 0.15318723\n",
      " 0.15078272 0.14567314 0.14777708 0.15043206 0.15574202 0.1579211\n",
      " 0.15644333 0.16696306 0.15902317 0.15644333 0.16578585 0.19170946\n",
      " 0.18752661 0.18925485 0.19010645 0.19469004 0.19088291 0.19897307\n",
      " 0.20185348 0.20758923 0.20788979 0.20796493 0.21089543 0.21417658\n",
      " 0.21054477 0.20047589 0.20824045 0.2082655  0.20901691 0.2115216\n",
      " 0.21392611 0.21838447 0.21918597 0.22299311 0.21951158 0.2255479\n",
      " 0.2161052  0.25124609 0.26607389 0.26900438 0.26462116 0.2750908\n",
      " 0.26912962 0.25758297 0.25209768 0.25372574 0.2560551  0.26652473\n",
      " 0.26865373 0.25993738 0.27529117 0.2841077  0.28731371 0.29931121\n",
      " 0.30301816 0.3051722  0.31594239 0.30239198 0.30983093 0.31949906\n",
      " 0.32055103 0.30567314 0.29390106 0.29422668 0.29335003 0.29597996\n",
      " 0.27977458 0.27714465 0.27832185 0.27902317 0.2804258  0.2886412\n",
      " 0.27932373 0.28308078 0.25655604 0.25144646 0.25793363 0.26667502\n",
      " 0.27401378 0.27724483 0.2866124  0.28773951 0.2952536  0.29858485\n",
      " 0.2981841  0.29973701 0.29946149 0.29477771 0.30056356 0.30141515\n",
      " 0.30354415 0.30389291 0.30537441 0.3068077 ]\n",
      "3 day output [[0.30816874]]\n",
      "4 day input [0.17082029 0.17460238 0.16493425 0.15664371 0.15318723 0.15078272\n",
      " 0.14567314 0.14777708 0.15043206 0.15574202 0.1579211  0.15644333\n",
      " 0.16696306 0.15902317 0.15644333 0.16578585 0.19170946 0.18752661\n",
      " 0.18925485 0.19010645 0.19469004 0.19088291 0.19897307 0.20185348\n",
      " 0.20758923 0.20788979 0.20796493 0.21089543 0.21417658 0.21054477\n",
      " 0.20047589 0.20824045 0.2082655  0.20901691 0.2115216  0.21392611\n",
      " 0.21838447 0.21918597 0.22299311 0.21951158 0.2255479  0.2161052\n",
      " 0.25124609 0.26607389 0.26900438 0.26462116 0.2750908  0.26912962\n",
      " 0.25758297 0.25209768 0.25372574 0.2560551  0.26652473 0.26865373\n",
      " 0.25993738 0.27529117 0.2841077  0.28731371 0.29931121 0.30301816\n",
      " 0.3051722  0.31594239 0.30239198 0.30983093 0.31949906 0.32055103\n",
      " 0.30567314 0.29390106 0.29422668 0.29335003 0.29597996 0.27977458\n",
      " 0.27714465 0.27832185 0.27902317 0.2804258  0.2886412  0.27932373\n",
      " 0.28308078 0.25655604 0.25144646 0.25793363 0.26667502 0.27401378\n",
      " 0.27724483 0.2866124  0.28773951 0.2952536  0.29858485 0.2981841\n",
      " 0.29973701 0.29946149 0.29477771 0.30056356 0.30141515 0.30354415\n",
      " 0.30389291 0.30537441 0.3068077  0.30816874]\n",
      "4 day output [[0.3094406]]\n",
      "5 day input [0.17460238 0.16493425 0.15664371 0.15318723 0.15078272 0.14567314\n",
      " 0.14777708 0.15043206 0.15574202 0.1579211  0.15644333 0.16696306\n",
      " 0.15902317 0.15644333 0.16578585 0.19170946 0.18752661 0.18925485\n",
      " 0.19010645 0.19469004 0.19088291 0.19897307 0.20185348 0.20758923\n",
      " 0.20788979 0.20796493 0.21089543 0.21417658 0.21054477 0.20047589\n",
      " 0.20824045 0.2082655  0.20901691 0.2115216  0.21392611 0.21838447\n",
      " 0.21918597 0.22299311 0.21951158 0.2255479  0.2161052  0.25124609\n",
      " 0.26607389 0.26900438 0.26462116 0.2750908  0.26912962 0.25758297\n",
      " 0.25209768 0.25372574 0.2560551  0.26652473 0.26865373 0.25993738\n",
      " 0.27529117 0.2841077  0.28731371 0.29931121 0.30301816 0.3051722\n",
      " 0.31594239 0.30239198 0.30983093 0.31949906 0.32055103 0.30567314\n",
      " 0.29390106 0.29422668 0.29335003 0.29597996 0.27977458 0.27714465\n",
      " 0.27832185 0.27902317 0.2804258  0.2886412  0.27932373 0.28308078\n",
      " 0.25655604 0.25144646 0.25793363 0.26667502 0.27401378 0.27724483\n",
      " 0.2866124  0.28773951 0.2952536  0.29858485 0.2981841  0.29973701\n",
      " 0.29946149 0.29477771 0.30056356 0.30141515 0.30354415 0.30389291\n",
      " 0.30537441 0.3068077  0.30816874 0.30944061]\n",
      "5 day output [[0.31060833]]\n",
      "6 day input [0.16493425 0.15664371 0.15318723 0.15078272 0.14567314 0.14777708\n",
      " 0.15043206 0.15574202 0.1579211  0.15644333 0.16696306 0.15902317\n",
      " 0.15644333 0.16578585 0.19170946 0.18752661 0.18925485 0.19010645\n",
      " 0.19469004 0.19088291 0.19897307 0.20185348 0.20758923 0.20788979\n",
      " 0.20796493 0.21089543 0.21417658 0.21054477 0.20047589 0.20824045\n",
      " 0.2082655  0.20901691 0.2115216  0.21392611 0.21838447 0.21918597\n",
      " 0.22299311 0.21951158 0.2255479  0.2161052  0.25124609 0.26607389\n",
      " 0.26900438 0.26462116 0.2750908  0.26912962 0.25758297 0.25209768\n",
      " 0.25372574 0.2560551  0.26652473 0.26865373 0.25993738 0.27529117\n",
      " 0.2841077  0.28731371 0.29931121 0.30301816 0.3051722  0.31594239\n",
      " 0.30239198 0.30983093 0.31949906 0.32055103 0.30567314 0.29390106\n",
      " 0.29422668 0.29335003 0.29597996 0.27977458 0.27714465 0.27832185\n",
      " 0.27902317 0.2804258  0.2886412  0.27932373 0.28308078 0.25655604\n",
      " 0.25144646 0.25793363 0.26667502 0.27401378 0.27724483 0.2866124\n",
      " 0.28773951 0.2952536  0.29858485 0.2981841  0.29973701 0.29946149\n",
      " 0.29477771 0.30056356 0.30141515 0.30354415 0.30389291 0.30537441\n",
      " 0.3068077  0.30816874 0.30944061 0.31060833]\n",
      "6 day output [[0.31166205]]\n",
      "7 day input [0.15664371 0.15318723 0.15078272 0.14567314 0.14777708 0.15043206\n",
      " 0.15574202 0.1579211  0.15644333 0.16696306 0.15902317 0.15644333\n",
      " 0.16578585 0.19170946 0.18752661 0.18925485 0.19010645 0.19469004\n",
      " 0.19088291 0.19897307 0.20185348 0.20758923 0.20788979 0.20796493\n",
      " 0.21089543 0.21417658 0.21054477 0.20047589 0.20824045 0.2082655\n",
      " 0.20901691 0.2115216  0.21392611 0.21838447 0.21918597 0.22299311\n",
      " 0.21951158 0.2255479  0.2161052  0.25124609 0.26607389 0.26900438\n",
      " 0.26462116 0.2750908  0.26912962 0.25758297 0.25209768 0.25372574\n",
      " 0.2560551  0.26652473 0.26865373 0.25993738 0.27529117 0.2841077\n",
      " 0.28731371 0.29931121 0.30301816 0.3051722  0.31594239 0.30239198\n",
      " 0.30983093 0.31949906 0.32055103 0.30567314 0.29390106 0.29422668\n",
      " 0.29335003 0.29597996 0.27977458 0.27714465 0.27832185 0.27902317\n",
      " 0.2804258  0.2886412  0.27932373 0.28308078 0.25655604 0.25144646\n",
      " 0.25793363 0.26667502 0.27401378 0.27724483 0.2866124  0.28773951\n",
      " 0.2952536  0.29858485 0.2981841  0.29973701 0.29946149 0.29477771\n",
      " 0.30056356 0.30141515 0.30354415 0.30389291 0.30537441 0.3068077\n",
      " 0.30816874 0.30944061 0.31060833 0.31166205]\n",
      "7 day output [[0.31259722]]\n",
      "8 day input [0.15318723 0.15078272 0.14567314 0.14777708 0.15043206 0.15574202\n",
      " 0.1579211  0.15644333 0.16696306 0.15902317 0.15644333 0.16578585\n",
      " 0.19170946 0.18752661 0.18925485 0.19010645 0.19469004 0.19088291\n",
      " 0.19897307 0.20185348 0.20758923 0.20788979 0.20796493 0.21089543\n",
      " 0.21417658 0.21054477 0.20047589 0.20824045 0.2082655  0.20901691\n",
      " 0.2115216  0.21392611 0.21838447 0.21918597 0.22299311 0.21951158\n",
      " 0.2255479  0.2161052  0.25124609 0.26607389 0.26900438 0.26462116\n",
      " 0.2750908  0.26912962 0.25758297 0.25209768 0.25372574 0.2560551\n",
      " 0.26652473 0.26865373 0.25993738 0.27529117 0.2841077  0.28731371\n",
      " 0.29931121 0.30301816 0.3051722  0.31594239 0.30239198 0.30983093\n",
      " 0.31949906 0.32055103 0.30567314 0.29390106 0.29422668 0.29335003\n",
      " 0.29597996 0.27977458 0.27714465 0.27832185 0.27902317 0.2804258\n",
      " 0.2886412  0.27932373 0.28308078 0.25655604 0.25144646 0.25793363\n",
      " 0.26667502 0.27401378 0.27724483 0.2866124  0.28773951 0.2952536\n",
      " 0.29858485 0.2981841  0.29973701 0.29946149 0.29477771 0.30056356\n",
      " 0.30141515 0.30354415 0.30389291 0.30537441 0.3068077  0.30816874\n",
      " 0.30944061 0.31060833 0.31166205 0.31259722]\n",
      "8 day output [[0.31341457]]\n",
      "9 day input [0.15078272 0.14567314 0.14777708 0.15043206 0.15574202 0.1579211\n",
      " 0.15644333 0.16696306 0.15902317 0.15644333 0.16578585 0.19170946\n",
      " 0.18752661 0.18925485 0.19010645 0.19469004 0.19088291 0.19897307\n",
      " 0.20185348 0.20758923 0.20788979 0.20796493 0.21089543 0.21417658\n",
      " 0.21054477 0.20047589 0.20824045 0.2082655  0.20901691 0.2115216\n",
      " 0.21392611 0.21838447 0.21918597 0.22299311 0.21951158 0.2255479\n",
      " 0.2161052  0.25124609 0.26607389 0.26900438 0.26462116 0.2750908\n",
      " 0.26912962 0.25758297 0.25209768 0.25372574 0.2560551  0.26652473\n",
      " 0.26865373 0.25993738 0.27529117 0.2841077  0.28731371 0.29931121\n",
      " 0.30301816 0.3051722  0.31594239 0.30239198 0.30983093 0.31949906\n",
      " 0.32055103 0.30567314 0.29390106 0.29422668 0.29335003 0.29597996\n",
      " 0.27977458 0.27714465 0.27832185 0.27902317 0.2804258  0.2886412\n",
      " 0.27932373 0.28308078 0.25655604 0.25144646 0.25793363 0.26667502\n",
      " 0.27401378 0.27724483 0.2866124  0.28773951 0.2952536  0.29858485\n",
      " 0.2981841  0.29973701 0.29946149 0.29477771 0.30056356 0.30141515\n",
      " 0.30354415 0.30389291 0.30537441 0.3068077  0.30816874 0.30944061\n",
      " 0.31060833 0.31166205 0.31259722 0.31341457]\n",
      "9 day output [[0.3141195]]\n",
      "10 day input [0.14567314 0.14777708 0.15043206 0.15574202 0.1579211  0.15644333\n",
      " 0.16696306 0.15902317 0.15644333 0.16578585 0.19170946 0.18752661\n",
      " 0.18925485 0.19010645 0.19469004 0.19088291 0.19897307 0.20185348\n",
      " 0.20758923 0.20788979 0.20796493 0.21089543 0.21417658 0.21054477\n",
      " 0.20047589 0.20824045 0.2082655  0.20901691 0.2115216  0.21392611\n",
      " 0.21838447 0.21918597 0.22299311 0.21951158 0.2255479  0.2161052\n",
      " 0.25124609 0.26607389 0.26900438 0.26462116 0.2750908  0.26912962\n",
      " 0.25758297 0.25209768 0.25372574 0.2560551  0.26652473 0.26865373\n",
      " 0.25993738 0.27529117 0.2841077  0.28731371 0.29931121 0.30301816\n",
      " 0.3051722  0.31594239 0.30239198 0.30983093 0.31949906 0.32055103\n",
      " 0.30567314 0.29390106 0.29422668 0.29335003 0.29597996 0.27977458\n",
      " 0.27714465 0.27832185 0.27902317 0.2804258  0.2886412  0.27932373\n",
      " 0.28308078 0.25655604 0.25144646 0.25793363 0.26667502 0.27401378\n",
      " 0.27724483 0.2866124  0.28773951 0.2952536  0.29858485 0.2981841\n",
      " 0.29973701 0.29946149 0.29477771 0.30056356 0.30141515 0.30354415\n",
      " 0.30389291 0.30537441 0.3068077  0.30816874 0.30944061 0.31060833\n",
      " 0.31166205 0.31259722 0.31341457 0.31411949]\n",
      "10 day output [[0.31472027]]\n",
      "11 day input [0.14777708 0.15043206 0.15574202 0.1579211  0.15644333 0.16696306\n",
      " 0.15902317 0.15644333 0.16578585 0.19170946 0.18752661 0.18925485\n",
      " 0.19010645 0.19469004 0.19088291 0.19897307 0.20185348 0.20758923\n",
      " 0.20788979 0.20796493 0.21089543 0.21417658 0.21054477 0.20047589\n",
      " 0.20824045 0.2082655  0.20901691 0.2115216  0.21392611 0.21838447\n",
      " 0.21918597 0.22299311 0.21951158 0.2255479  0.2161052  0.25124609\n",
      " 0.26607389 0.26900438 0.26462116 0.2750908  0.26912962 0.25758297\n",
      " 0.25209768 0.25372574 0.2560551  0.26652473 0.26865373 0.25993738\n",
      " 0.27529117 0.2841077  0.28731371 0.29931121 0.30301816 0.3051722\n",
      " 0.31594239 0.30239198 0.30983093 0.31949906 0.32055103 0.30567314\n",
      " 0.29390106 0.29422668 0.29335003 0.29597996 0.27977458 0.27714465\n",
      " 0.27832185 0.27902317 0.2804258  0.2886412  0.27932373 0.28308078\n",
      " 0.25655604 0.25144646 0.25793363 0.26667502 0.27401378 0.27724483\n",
      " 0.2866124  0.28773951 0.2952536  0.29858485 0.2981841  0.29973701\n",
      " 0.29946149 0.29477771 0.30056356 0.30141515 0.30354415 0.30389291\n",
      " 0.30537441 0.3068077  0.30816874 0.30944061 0.31060833 0.31166205\n",
      " 0.31259722 0.31341457 0.31411949 0.31472027]\n",
      "11 day output [[0.3152278]]\n",
      "12 day input [0.15043206 0.15574202 0.1579211  0.15644333 0.16696306 0.15902317\n",
      " 0.15644333 0.16578585 0.19170946 0.18752661 0.18925485 0.19010645\n",
      " 0.19469004 0.19088291 0.19897307 0.20185348 0.20758923 0.20788979\n",
      " 0.20796493 0.21089543 0.21417658 0.21054477 0.20047589 0.20824045\n",
      " 0.2082655  0.20901691 0.2115216  0.21392611 0.21838447 0.21918597\n",
      " 0.22299311 0.21951158 0.2255479  0.2161052  0.25124609 0.26607389\n",
      " 0.26900438 0.26462116 0.2750908  0.26912962 0.25758297 0.25209768\n",
      " 0.25372574 0.2560551  0.26652473 0.26865373 0.25993738 0.27529117\n",
      " 0.2841077  0.28731371 0.29931121 0.30301816 0.3051722  0.31594239\n",
      " 0.30239198 0.30983093 0.31949906 0.32055103 0.30567314 0.29390106\n",
      " 0.29422668 0.29335003 0.29597996 0.27977458 0.27714465 0.27832185\n",
      " 0.27902317 0.2804258  0.2886412  0.27932373 0.28308078 0.25655604\n",
      " 0.25144646 0.25793363 0.26667502 0.27401378 0.27724483 0.2866124\n",
      " 0.28773951 0.2952536  0.29858485 0.2981841  0.29973701 0.29946149\n",
      " 0.29477771 0.30056356 0.30141515 0.30354415 0.30389291 0.30537441\n",
      " 0.3068077  0.30816874 0.30944061 0.31060833 0.31166205 0.31259722\n",
      " 0.31341457 0.31411949 0.31472027 0.31522781]\n",
      "12 day output [[0.31565398]]\n",
      "13 day input [0.15574202 0.1579211  0.15644333 0.16696306 0.15902317 0.15644333\n",
      " 0.16578585 0.19170946 0.18752661 0.18925485 0.19010645 0.19469004\n",
      " 0.19088291 0.19897307 0.20185348 0.20758923 0.20788979 0.20796493\n",
      " 0.21089543 0.21417658 0.21054477 0.20047589 0.20824045 0.2082655\n",
      " 0.20901691 0.2115216  0.21392611 0.21838447 0.21918597 0.22299311\n",
      " 0.21951158 0.2255479  0.2161052  0.25124609 0.26607389 0.26900438\n",
      " 0.26462116 0.2750908  0.26912962 0.25758297 0.25209768 0.25372574\n",
      " 0.2560551  0.26652473 0.26865373 0.25993738 0.27529117 0.2841077\n",
      " 0.28731371 0.29931121 0.30301816 0.3051722  0.31594239 0.30239198\n",
      " 0.30983093 0.31949906 0.32055103 0.30567314 0.29390106 0.29422668\n",
      " 0.29335003 0.29597996 0.27977458 0.27714465 0.27832185 0.27902317\n",
      " 0.2804258  0.2886412  0.27932373 0.28308078 0.25655604 0.25144646\n",
      " 0.25793363 0.26667502 0.27401378 0.27724483 0.2866124  0.28773951\n",
      " 0.2952536  0.29858485 0.2981841  0.29973701 0.29946149 0.29477771\n",
      " 0.30056356 0.30141515 0.30354415 0.30389291 0.30537441 0.3068077\n",
      " 0.30816874 0.30944061 0.31060833 0.31166205 0.31259722 0.31341457\n",
      " 0.31411949 0.31472027 0.31522781 0.31565398]\n",
      "13 day output [[0.31601143]]\n",
      "14 day input [0.1579211  0.15644333 0.16696306 0.15902317 0.15644333 0.16578585\n",
      " 0.19170946 0.18752661 0.18925485 0.19010645 0.19469004 0.19088291\n",
      " 0.19897307 0.20185348 0.20758923 0.20788979 0.20796493 0.21089543\n",
      " 0.21417658 0.21054477 0.20047589 0.20824045 0.2082655  0.20901691\n",
      " 0.2115216  0.21392611 0.21838447 0.21918597 0.22299311 0.21951158\n",
      " 0.2255479  0.2161052  0.25124609 0.26607389 0.26900438 0.26462116\n",
      " 0.2750908  0.26912962 0.25758297 0.25209768 0.25372574 0.2560551\n",
      " 0.26652473 0.26865373 0.25993738 0.27529117 0.2841077  0.28731371\n",
      " 0.29931121 0.30301816 0.3051722  0.31594239 0.30239198 0.30983093\n",
      " 0.31949906 0.32055103 0.30567314 0.29390106 0.29422668 0.29335003\n",
      " 0.29597996 0.27977458 0.27714465 0.27832185 0.27902317 0.2804258\n",
      " 0.2886412  0.27932373 0.28308078 0.25655604 0.25144646 0.25793363\n",
      " 0.26667502 0.27401378 0.27724483 0.2866124  0.28773951 0.2952536\n",
      " 0.29858485 0.2981841  0.29973701 0.29946149 0.29477771 0.30056356\n",
      " 0.30141515 0.30354415 0.30389291 0.30537441 0.3068077  0.30816874\n",
      " 0.30944061 0.31060833 0.31166205 0.31259722 0.31341457 0.31411949\n",
      " 0.31472027 0.31522781 0.31565398 0.31601143]\n",
      "14 day output [[0.3163123]]\n",
      "15 day input [0.15644333 0.16696306 0.15902317 0.15644333 0.16578585 0.19170946\n",
      " 0.18752661 0.18925485 0.19010645 0.19469004 0.19088291 0.19897307\n",
      " 0.20185348 0.20758923 0.20788979 0.20796493 0.21089543 0.21417658\n",
      " 0.21054477 0.20047589 0.20824045 0.2082655  0.20901691 0.2115216\n",
      " 0.21392611 0.21838447 0.21918597 0.22299311 0.21951158 0.2255479\n",
      " 0.2161052  0.25124609 0.26607389 0.26900438 0.26462116 0.2750908\n",
      " 0.26912962 0.25758297 0.25209768 0.25372574 0.2560551  0.26652473\n",
      " 0.26865373 0.25993738 0.27529117 0.2841077  0.28731371 0.29931121\n",
      " 0.30301816 0.3051722  0.31594239 0.30239198 0.30983093 0.31949906\n",
      " 0.32055103 0.30567314 0.29390106 0.29422668 0.29335003 0.29597996\n",
      " 0.27977458 0.27714465 0.27832185 0.27902317 0.2804258  0.2886412\n",
      " 0.27932373 0.28308078 0.25655604 0.25144646 0.25793363 0.26667502\n",
      " 0.27401378 0.27724483 0.2866124  0.28773951 0.2952536  0.29858485\n",
      " 0.2981841  0.29973701 0.29946149 0.29477771 0.30056356 0.30141515\n",
      " 0.30354415 0.30389291 0.30537441 0.3068077  0.30816874 0.30944061\n",
      " 0.31060833 0.31166205 0.31259722 0.31341457 0.31411949 0.31472027\n",
      " 0.31522781 0.31565398 0.31601143 0.31631231]\n",
      "15 day output [[0.31656834]]\n",
      "16 day input [0.16696306 0.15902317 0.15644333 0.16578585 0.19170946 0.18752661\n",
      " 0.18925485 0.19010645 0.19469004 0.19088291 0.19897307 0.20185348\n",
      " 0.20758923 0.20788979 0.20796493 0.21089543 0.21417658 0.21054477\n",
      " 0.20047589 0.20824045 0.2082655  0.20901691 0.2115216  0.21392611\n",
      " 0.21838447 0.21918597 0.22299311 0.21951158 0.2255479  0.2161052\n",
      " 0.25124609 0.26607389 0.26900438 0.26462116 0.2750908  0.26912962\n",
      " 0.25758297 0.25209768 0.25372574 0.2560551  0.26652473 0.26865373\n",
      " 0.25993738 0.27529117 0.2841077  0.28731371 0.29931121 0.30301816\n",
      " 0.3051722  0.31594239 0.30239198 0.30983093 0.31949906 0.32055103\n",
      " 0.30567314 0.29390106 0.29422668 0.29335003 0.29597996 0.27977458\n",
      " 0.27714465 0.27832185 0.27902317 0.2804258  0.2886412  0.27932373\n",
      " 0.28308078 0.25655604 0.25144646 0.25793363 0.26667502 0.27401378\n",
      " 0.27724483 0.2866124  0.28773951 0.2952536  0.29858485 0.2981841\n",
      " 0.29973701 0.29946149 0.29477771 0.30056356 0.30141515 0.30354415\n",
      " 0.30389291 0.30537441 0.3068077  0.30816874 0.30944061 0.31060833\n",
      " 0.31166205 0.31259722 0.31341457 0.31411949 0.31472027 0.31522781\n",
      " 0.31565398 0.31601143 0.31631231 0.31656834]\n",
      "16 day output [[0.3167907]]\n",
      "17 day input [0.15902317 0.15644333 0.16578585 0.19170946 0.18752661 0.18925485\n",
      " 0.19010645 0.19469004 0.19088291 0.19897307 0.20185348 0.20758923\n",
      " 0.20788979 0.20796493 0.21089543 0.21417658 0.21054477 0.20047589\n",
      " 0.20824045 0.2082655  0.20901691 0.2115216  0.21392611 0.21838447\n",
      " 0.21918597 0.22299311 0.21951158 0.2255479  0.2161052  0.25124609\n",
      " 0.26607389 0.26900438 0.26462116 0.2750908  0.26912962 0.25758297\n",
      " 0.25209768 0.25372574 0.2560551  0.26652473 0.26865373 0.25993738\n",
      " 0.27529117 0.2841077  0.28731371 0.29931121 0.30301816 0.3051722\n",
      " 0.31594239 0.30239198 0.30983093 0.31949906 0.32055103 0.30567314\n",
      " 0.29390106 0.29422668 0.29335003 0.29597996 0.27977458 0.27714465\n",
      " 0.27832185 0.27902317 0.2804258  0.2886412  0.27932373 0.28308078\n",
      " 0.25655604 0.25144646 0.25793363 0.26667502 0.27401378 0.27724483\n",
      " 0.2866124  0.28773951 0.2952536  0.29858485 0.2981841  0.29973701\n",
      " 0.29946149 0.29477771 0.30056356 0.30141515 0.30354415 0.30389291\n",
      " 0.30537441 0.3068077  0.30816874 0.30944061 0.31060833 0.31166205\n",
      " 0.31259722 0.31341457 0.31411949 0.31472027 0.31522781 0.31565398\n",
      " 0.31601143 0.31631231 0.31656834 0.3167907 ]\n",
      "17 day output [[0.31698903]]\n",
      "18 day input [0.15644333 0.16578585 0.19170946 0.18752661 0.18925485 0.19010645\n",
      " 0.19469004 0.19088291 0.19897307 0.20185348 0.20758923 0.20788979\n",
      " 0.20796493 0.21089543 0.21417658 0.21054477 0.20047589 0.20824045\n",
      " 0.2082655  0.20901691 0.2115216  0.21392611 0.21838447 0.21918597\n",
      " 0.22299311 0.21951158 0.2255479  0.2161052  0.25124609 0.26607389\n",
      " 0.26900438 0.26462116 0.2750908  0.26912962 0.25758297 0.25209768\n",
      " 0.25372574 0.2560551  0.26652473 0.26865373 0.25993738 0.27529117\n",
      " 0.2841077  0.28731371 0.29931121 0.30301816 0.3051722  0.31594239\n",
      " 0.30239198 0.30983093 0.31949906 0.32055103 0.30567314 0.29390106\n",
      " 0.29422668 0.29335003 0.29597996 0.27977458 0.27714465 0.27832185\n",
      " 0.27902317 0.2804258  0.2886412  0.27932373 0.28308078 0.25655604\n",
      " 0.25144646 0.25793363 0.26667502 0.27401378 0.27724483 0.2866124\n",
      " 0.28773951 0.2952536  0.29858485 0.2981841  0.29973701 0.29946149\n",
      " 0.29477771 0.30056356 0.30141515 0.30354415 0.30389291 0.30537441\n",
      " 0.3068077  0.30816874 0.30944061 0.31060833 0.31166205 0.31259722\n",
      " 0.31341457 0.31411949 0.31472027 0.31522781 0.31565398 0.31601143\n",
      " 0.31631231 0.31656834 0.3167907  0.31698903]\n",
      "18 day output [[0.31717223]]\n",
      "19 day input [0.16578585 0.19170946 0.18752661 0.18925485 0.19010645 0.19469004\n",
      " 0.19088291 0.19897307 0.20185348 0.20758923 0.20788979 0.20796493\n",
      " 0.21089543 0.21417658 0.21054477 0.20047589 0.20824045 0.2082655\n",
      " 0.20901691 0.2115216  0.21392611 0.21838447 0.21918597 0.22299311\n",
      " 0.21951158 0.2255479  0.2161052  0.25124609 0.26607389 0.26900438\n",
      " 0.26462116 0.2750908  0.26912962 0.25758297 0.25209768 0.25372574\n",
      " 0.2560551  0.26652473 0.26865373 0.25993738 0.27529117 0.2841077\n",
      " 0.28731371 0.29931121 0.30301816 0.3051722  0.31594239 0.30239198\n",
      " 0.30983093 0.31949906 0.32055103 0.30567314 0.29390106 0.29422668\n",
      " 0.29335003 0.29597996 0.27977458 0.27714465 0.27832185 0.27902317\n",
      " 0.2804258  0.2886412  0.27932373 0.28308078 0.25655604 0.25144646\n",
      " 0.25793363 0.26667502 0.27401378 0.27724483 0.2866124  0.28773951\n",
      " 0.2952536  0.29858485 0.2981841  0.29973701 0.29946149 0.29477771\n",
      " 0.30056356 0.30141515 0.30354415 0.30389291 0.30537441 0.3068077\n",
      " 0.30816874 0.30944061 0.31060833 0.31166205 0.31259722 0.31341457\n",
      " 0.31411949 0.31472027 0.31522781 0.31565398 0.31601143 0.31631231\n",
      " 0.31656834 0.3167907  0.31698903 0.31717223]\n",
      "19 day output [[0.3173479]]\n",
      "20 day input [0.19170946 0.18752661 0.18925485 0.19010645 0.19469004 0.19088291\n",
      " 0.19897307 0.20185348 0.20758923 0.20788979 0.20796493 0.21089543\n",
      " 0.21417658 0.21054477 0.20047589 0.20824045 0.2082655  0.20901691\n",
      " 0.2115216  0.21392611 0.21838447 0.21918597 0.22299311 0.21951158\n",
      " 0.2255479  0.2161052  0.25124609 0.26607389 0.26900438 0.26462116\n",
      " 0.2750908  0.26912962 0.25758297 0.25209768 0.25372574 0.2560551\n",
      " 0.26652473 0.26865373 0.25993738 0.27529117 0.2841077  0.28731371\n",
      " 0.29931121 0.30301816 0.3051722  0.31594239 0.30239198 0.30983093\n",
      " 0.31949906 0.32055103 0.30567314 0.29390106 0.29422668 0.29335003\n",
      " 0.29597996 0.27977458 0.27714465 0.27832185 0.27902317 0.2804258\n",
      " 0.2886412  0.27932373 0.28308078 0.25655604 0.25144646 0.25793363\n",
      " 0.26667502 0.27401378 0.27724483 0.2866124  0.28773951 0.2952536\n",
      " 0.29858485 0.2981841  0.29973701 0.29946149 0.29477771 0.30056356\n",
      " 0.30141515 0.30354415 0.30389291 0.30537441 0.3068077  0.30816874\n",
      " 0.30944061 0.31060833 0.31166205 0.31259722 0.31341457 0.31411949\n",
      " 0.31472027 0.31522781 0.31565398 0.31601143 0.31631231 0.31656834\n",
      " 0.3167907  0.31698903 0.31717223 0.31734791]\n",
      "20 day output [[0.3175228]]\n",
      "21 day input [0.18752661 0.18925485 0.19010645 0.19469004 0.19088291 0.19897307\n",
      " 0.20185348 0.20758923 0.20788979 0.20796493 0.21089543 0.21417658\n",
      " 0.21054477 0.20047589 0.20824045 0.2082655  0.20901691 0.2115216\n",
      " 0.21392611 0.21838447 0.21918597 0.22299311 0.21951158 0.2255479\n",
      " 0.2161052  0.25124609 0.26607389 0.26900438 0.26462116 0.2750908\n",
      " 0.26912962 0.25758297 0.25209768 0.25372574 0.2560551  0.26652473\n",
      " 0.26865373 0.25993738 0.27529117 0.2841077  0.28731371 0.29931121\n",
      " 0.30301816 0.3051722  0.31594239 0.30239198 0.30983093 0.31949906\n",
      " 0.32055103 0.30567314 0.29390106 0.29422668 0.29335003 0.29597996\n",
      " 0.27977458 0.27714465 0.27832185 0.27902317 0.2804258  0.2886412\n",
      " 0.27932373 0.28308078 0.25655604 0.25144646 0.25793363 0.26667502\n",
      " 0.27401378 0.27724483 0.2866124  0.28773951 0.2952536  0.29858485\n",
      " 0.2981841  0.29973701 0.29946149 0.29477771 0.30056356 0.30141515\n",
      " 0.30354415 0.30389291 0.30537441 0.3068077  0.30816874 0.30944061\n",
      " 0.31060833 0.31166205 0.31259722 0.31341457 0.31411949 0.31472027\n",
      " 0.31522781 0.31565398 0.31601143 0.31631231 0.31656834 0.3167907\n",
      " 0.31698903 0.31717223 0.31734791 0.31752279]\n",
      "21 day output [[0.31770205]]\n",
      "22 day input [0.18925485 0.19010645 0.19469004 0.19088291 0.19897307 0.20185348\n",
      " 0.20758923 0.20788979 0.20796493 0.21089543 0.21417658 0.21054477\n",
      " 0.20047589 0.20824045 0.2082655  0.20901691 0.2115216  0.21392611\n",
      " 0.21838447 0.21918597 0.22299311 0.21951158 0.2255479  0.2161052\n",
      " 0.25124609 0.26607389 0.26900438 0.26462116 0.2750908  0.26912962\n",
      " 0.25758297 0.25209768 0.25372574 0.2560551  0.26652473 0.26865373\n",
      " 0.25993738 0.27529117 0.2841077  0.28731371 0.29931121 0.30301816\n",
      " 0.3051722  0.31594239 0.30239198 0.30983093 0.31949906 0.32055103\n",
      " 0.30567314 0.29390106 0.29422668 0.29335003 0.29597996 0.27977458\n",
      " 0.27714465 0.27832185 0.27902317 0.2804258  0.2886412  0.27932373\n",
      " 0.28308078 0.25655604 0.25144646 0.25793363 0.26667502 0.27401378\n",
      " 0.27724483 0.2866124  0.28773951 0.2952536  0.29858485 0.2981841\n",
      " 0.29973701 0.29946149 0.29477771 0.30056356 0.30141515 0.30354415\n",
      " 0.30389291 0.30537441 0.3068077  0.30816874 0.30944061 0.31060833\n",
      " 0.31166205 0.31259722 0.31341457 0.31411949 0.31472027 0.31522781\n",
      " 0.31565398 0.31601143 0.31631231 0.31656834 0.3167907  0.31698903\n",
      " 0.31717223 0.31734791 0.31752279 0.31770205]\n",
      "22 day output [[0.31789058]]\n",
      "23 day input [0.19010645 0.19469004 0.19088291 0.19897307 0.20185348 0.20758923\n",
      " 0.20788979 0.20796493 0.21089543 0.21417658 0.21054477 0.20047589\n",
      " 0.20824045 0.2082655  0.20901691 0.2115216  0.21392611 0.21838447\n",
      " 0.21918597 0.22299311 0.21951158 0.2255479  0.2161052  0.25124609\n",
      " 0.26607389 0.26900438 0.26462116 0.2750908  0.26912962 0.25758297\n",
      " 0.25209768 0.25372574 0.2560551  0.26652473 0.26865373 0.25993738\n",
      " 0.27529117 0.2841077  0.28731371 0.29931121 0.30301816 0.3051722\n",
      " 0.31594239 0.30239198 0.30983093 0.31949906 0.32055103 0.30567314\n",
      " 0.29390106 0.29422668 0.29335003 0.29597996 0.27977458 0.27714465\n",
      " 0.27832185 0.27902317 0.2804258  0.2886412  0.27932373 0.28308078\n",
      " 0.25655604 0.25144646 0.25793363 0.26667502 0.27401378 0.27724483\n",
      " 0.2866124  0.28773951 0.2952536  0.29858485 0.2981841  0.29973701\n",
      " 0.29946149 0.29477771 0.30056356 0.30141515 0.30354415 0.30389291\n",
      " 0.30537441 0.3068077  0.30816874 0.30944061 0.31060833 0.31166205\n",
      " 0.31259722 0.31341457 0.31411949 0.31472027 0.31522781 0.31565398\n",
      " 0.31601143 0.31631231 0.31656834 0.3167907  0.31698903 0.31717223\n",
      " 0.31734791 0.31752279 0.31770205 0.31789058]\n",
      "23 day output [[0.3180923]]\n",
      "24 day input [0.19469004 0.19088291 0.19897307 0.20185348 0.20758923 0.20788979\n",
      " 0.20796493 0.21089543 0.21417658 0.21054477 0.20047589 0.20824045\n",
      " 0.2082655  0.20901691 0.2115216  0.21392611 0.21838447 0.21918597\n",
      " 0.22299311 0.21951158 0.2255479  0.2161052  0.25124609 0.26607389\n",
      " 0.26900438 0.26462116 0.2750908  0.26912962 0.25758297 0.25209768\n",
      " 0.25372574 0.2560551  0.26652473 0.26865373 0.25993738 0.27529117\n",
      " 0.2841077  0.28731371 0.29931121 0.30301816 0.3051722  0.31594239\n",
      " 0.30239198 0.30983093 0.31949906 0.32055103 0.30567314 0.29390106\n",
      " 0.29422668 0.29335003 0.29597996 0.27977458 0.27714465 0.27832185\n",
      " 0.27902317 0.2804258  0.2886412  0.27932373 0.28308078 0.25655604\n",
      " 0.25144646 0.25793363 0.26667502 0.27401378 0.27724483 0.2866124\n",
      " 0.28773951 0.2952536  0.29858485 0.2981841  0.29973701 0.29946149\n",
      " 0.29477771 0.30056356 0.30141515 0.30354415 0.30389291 0.30537441\n",
      " 0.3068077  0.30816874 0.30944061 0.31060833 0.31166205 0.31259722\n",
      " 0.31341457 0.31411949 0.31472027 0.31522781 0.31565398 0.31601143\n",
      " 0.31631231 0.31656834 0.3167907  0.31698903 0.31717223 0.31734791\n",
      " 0.31752279 0.31770205 0.31789058 0.31809229]\n",
      "24 day output [[0.31830978]]\n",
      "25 day input [0.19088291 0.19897307 0.20185348 0.20758923 0.20788979 0.20796493\n",
      " 0.21089543 0.21417658 0.21054477 0.20047589 0.20824045 0.2082655\n",
      " 0.20901691 0.2115216  0.21392611 0.21838447 0.21918597 0.22299311\n",
      " 0.21951158 0.2255479  0.2161052  0.25124609 0.26607389 0.26900438\n",
      " 0.26462116 0.2750908  0.26912962 0.25758297 0.25209768 0.25372574\n",
      " 0.2560551  0.26652473 0.26865373 0.25993738 0.27529117 0.2841077\n",
      " 0.28731371 0.29931121 0.30301816 0.3051722  0.31594239 0.30239198\n",
      " 0.30983093 0.31949906 0.32055103 0.30567314 0.29390106 0.29422668\n",
      " 0.29335003 0.29597996 0.27977458 0.27714465 0.27832185 0.27902317\n",
      " 0.2804258  0.2886412  0.27932373 0.28308078 0.25655604 0.25144646\n",
      " 0.25793363 0.26667502 0.27401378 0.27724483 0.2866124  0.28773951\n",
      " 0.2952536  0.29858485 0.2981841  0.29973701 0.29946149 0.29477771\n",
      " 0.30056356 0.30141515 0.30354415 0.30389291 0.30537441 0.3068077\n",
      " 0.30816874 0.30944061 0.31060833 0.31166205 0.31259722 0.31341457\n",
      " 0.31411949 0.31472027 0.31522781 0.31565398 0.31601143 0.31631231\n",
      " 0.31656834 0.3167907  0.31698903 0.31717223 0.31734791 0.31752279\n",
      " 0.31770205 0.31789058 0.31809229 0.31830978]\n",
      "25 day output [[0.3185454]]\n",
      "26 day input [0.19897307 0.20185348 0.20758923 0.20788979 0.20796493 0.21089543\n",
      " 0.21417658 0.21054477 0.20047589 0.20824045 0.2082655  0.20901691\n",
      " 0.2115216  0.21392611 0.21838447 0.21918597 0.22299311 0.21951158\n",
      " 0.2255479  0.2161052  0.25124609 0.26607389 0.26900438 0.26462116\n",
      " 0.2750908  0.26912962 0.25758297 0.25209768 0.25372574 0.2560551\n",
      " 0.26652473 0.26865373 0.25993738 0.27529117 0.2841077  0.28731371\n",
      " 0.29931121 0.30301816 0.3051722  0.31594239 0.30239198 0.30983093\n",
      " 0.31949906 0.32055103 0.30567314 0.29390106 0.29422668 0.29335003\n",
      " 0.29597996 0.27977458 0.27714465 0.27832185 0.27902317 0.2804258\n",
      " 0.2886412  0.27932373 0.28308078 0.25655604 0.25144646 0.25793363\n",
      " 0.26667502 0.27401378 0.27724483 0.2866124  0.28773951 0.2952536\n",
      " 0.29858485 0.2981841  0.29973701 0.29946149 0.29477771 0.30056356\n",
      " 0.30141515 0.30354415 0.30389291 0.30537441 0.3068077  0.30816874\n",
      " 0.30944061 0.31060833 0.31166205 0.31259722 0.31341457 0.31411949\n",
      " 0.31472027 0.31522781 0.31565398 0.31601143 0.31631231 0.31656834\n",
      " 0.3167907  0.31698903 0.31717223 0.31734791 0.31752279 0.31770205\n",
      " 0.31789058 0.31809229 0.31830978 0.3185454 ]\n",
      "26 day output [[0.31880075]]\n",
      "27 day input [0.20185348 0.20758923 0.20788979 0.20796493 0.21089543 0.21417658\n",
      " 0.21054477 0.20047589 0.20824045 0.2082655  0.20901691 0.2115216\n",
      " 0.21392611 0.21838447 0.21918597 0.22299311 0.21951158 0.2255479\n",
      " 0.2161052  0.25124609 0.26607389 0.26900438 0.26462116 0.2750908\n",
      " 0.26912962 0.25758297 0.25209768 0.25372574 0.2560551  0.26652473\n",
      " 0.26865373 0.25993738 0.27529117 0.2841077  0.28731371 0.29931121\n",
      " 0.30301816 0.3051722  0.31594239 0.30239198 0.30983093 0.31949906\n",
      " 0.32055103 0.30567314 0.29390106 0.29422668 0.29335003 0.29597996\n",
      " 0.27977458 0.27714465 0.27832185 0.27902317 0.2804258  0.2886412\n",
      " 0.27932373 0.28308078 0.25655604 0.25144646 0.25793363 0.26667502\n",
      " 0.27401378 0.27724483 0.2866124  0.28773951 0.2952536  0.29858485\n",
      " 0.2981841  0.29973701 0.29946149 0.29477771 0.30056356 0.30141515\n",
      " 0.30354415 0.30389291 0.30537441 0.3068077  0.30816874 0.30944061\n",
      " 0.31060833 0.31166205 0.31259722 0.31341457 0.31411949 0.31472027\n",
      " 0.31522781 0.31565398 0.31601143 0.31631231 0.31656834 0.3167907\n",
      " 0.31698903 0.31717223 0.31734791 0.31752279 0.31770205 0.31789058\n",
      " 0.31809229 0.31830978 0.3185454  0.31880075]\n",
      "27 day output [[0.3190768]]\n",
      "28 day input [0.20758923 0.20788979 0.20796493 0.21089543 0.21417658 0.21054477\n",
      " 0.20047589 0.20824045 0.2082655  0.20901691 0.2115216  0.21392611\n",
      " 0.21838447 0.21918597 0.22299311 0.21951158 0.2255479  0.2161052\n",
      " 0.25124609 0.26607389 0.26900438 0.26462116 0.2750908  0.26912962\n",
      " 0.25758297 0.25209768 0.25372574 0.2560551  0.26652473 0.26865373\n",
      " 0.25993738 0.27529117 0.2841077  0.28731371 0.29931121 0.30301816\n",
      " 0.3051722  0.31594239 0.30239198 0.30983093 0.31949906 0.32055103\n",
      " 0.30567314 0.29390106 0.29422668 0.29335003 0.29597996 0.27977458\n",
      " 0.27714465 0.27832185 0.27902317 0.2804258  0.2886412  0.27932373\n",
      " 0.28308078 0.25655604 0.25144646 0.25793363 0.26667502 0.27401378\n",
      " 0.27724483 0.2866124  0.28773951 0.2952536  0.29858485 0.2981841\n",
      " 0.29973701 0.29946149 0.29477771 0.30056356 0.30141515 0.30354415\n",
      " 0.30389291 0.30537441 0.3068077  0.30816874 0.30944061 0.31060833\n",
      " 0.31166205 0.31259722 0.31341457 0.31411949 0.31472027 0.31522781\n",
      " 0.31565398 0.31601143 0.31631231 0.31656834 0.3167907  0.31698903\n",
      " 0.31717223 0.31734791 0.31752279 0.31770205 0.31789058 0.31809229\n",
      " 0.31830978 0.3185454  0.31880075 0.31907681]\n",
      "28 day output [[0.31937402]]\n",
      "29 day input [0.20788979 0.20796493 0.21089543 0.21417658 0.21054477 0.20047589\n",
      " 0.20824045 0.2082655  0.20901691 0.2115216  0.21392611 0.21838447\n",
      " 0.21918597 0.22299311 0.21951158 0.2255479  0.2161052  0.25124609\n",
      " 0.26607389 0.26900438 0.26462116 0.2750908  0.26912962 0.25758297\n",
      " 0.25209768 0.25372574 0.2560551  0.26652473 0.26865373 0.25993738\n",
      " 0.27529117 0.2841077  0.28731371 0.29931121 0.30301816 0.3051722\n",
      " 0.31594239 0.30239198 0.30983093 0.31949906 0.32055103 0.30567314\n",
      " 0.29390106 0.29422668 0.29335003 0.29597996 0.27977458 0.27714465\n",
      " 0.27832185 0.27902317 0.2804258  0.2886412  0.27932373 0.28308078\n",
      " 0.25655604 0.25144646 0.25793363 0.26667502 0.27401378 0.27724483\n",
      " 0.2866124  0.28773951 0.2952536  0.29858485 0.2981841  0.29973701\n",
      " 0.29946149 0.29477771 0.30056356 0.30141515 0.30354415 0.30389291\n",
      " 0.30537441 0.3068077  0.30816874 0.30944061 0.31060833 0.31166205\n",
      " 0.31259722 0.31341457 0.31411949 0.31472027 0.31522781 0.31565398\n",
      " 0.31601143 0.31631231 0.31656834 0.3167907  0.31698903 0.31717223\n",
      " 0.31734791 0.31752279 0.31770205 0.31789058 0.31809229 0.31830978\n",
      " 0.3185454  0.31880075 0.31907681 0.31937402]\n",
      "29 day output [[0.31969252]]\n",
      "[[0.30389291048049927], [0.305374413728714], [0.3068076968193054], [0.3081687390804291], [0.30944061279296875], [0.3106083273887634], [0.31166204810142517], [0.31259721517562866], [0.3134145736694336], [0.31411948800086975], [0.3147202730178833], [0.31522780656814575], [0.3156539797782898], [0.3160114288330078], [0.316312313079834], [0.3165683448314667], [0.31679069995880127], [0.3169890344142914], [0.31717222929000854], [0.317347913980484], [0.317522794008255], [0.317702054977417], [0.31789058446884155], [0.3180922865867615], [0.3183097839355469], [0.318545401096344], [0.31880074739456177], [0.319076806306839], [0.3193740248680115], [0.3196925222873688]]\n"
     ]
    }
   ],
   "source": [
    "# demonstrate prediction for next 30 days\n",
    "from numpy import array\n",
    "lst_output=[]\n",
    "n_steps=100\n",
    "i=0\n",
    "while (i<30): \n",
    "    if(len (temp_input) >100) :\n",
    "        #print (temp_input)\n",
    "        x_input=np.array(temp_input [1:])\n",
    "        print(\"{} day input {}\". format(i,x_input))\n",
    "        x_input=x_input.reshape (1,-1)\n",
    "        x_input = x_input.reshape((1, n_steps, 1))\n",
    "        #print(x_ input)\n",
    "        yhat = model.predict(x_input, verbose=0)\n",
    "        print(\"{} day output {}\". format(i, yhat))\n",
    "        temp_input. extend (yhat[0].tolist())\n",
    "        temp_input=temp_input [1:]\n",
    "        #print (temp_input)\n",
    "        lst_output.extend (yhat.tolist())\n",
    "        i=i+1\n",
    "    else:\n",
    "        x_input = x_input.reshape((1, n_steps, 1))\n",
    "        yhat = model.predict(x_input, verbose=0)\n",
    "        print (yhat [0])\n",
    "        temp_input. extend (yhat [0]. tolist())\n",
    "        print(len (temp_input))\n",
    "        lst_output. extend (yhat.tolist())\n",
    "        i=i+1\n",
    "print (lst_output)"
   ]
  },
  {
   "cell_type": "code",
   "execution_count": 57,
   "id": "72b4e667",
   "metadata": {},
   "outputs": [],
   "source": [
    "day_new=np.arange (1,101)\n",
    "day_pred=np.arange (101,131)"
   ]
  },
  {
   "cell_type": "code",
   "execution_count": 58,
   "id": "fd47521b",
   "metadata": {},
   "outputs": [],
   "source": [
    "import matplotlib.pyplot as plt"
   ]
  },
  {
   "cell_type": "code",
   "execution_count": 59,
   "id": "014533f0",
   "metadata": {},
   "outputs": [
    {
     "data": {
      "text/plain": [
       "1256"
      ]
     },
     "execution_count": 59,
     "metadata": {},
     "output_type": "execute_result"
    }
   ],
   "source": [
    "len(df1)"
   ]
  },
  {
   "cell_type": "code",
   "execution_count": 60,
   "id": "283e8d6c",
   "metadata": {},
   "outputs": [],
   "source": [
    "df3=df1.tolist()\n",
    "df3.extend (lst_output)"
   ]
  },
  {
   "cell_type": "code",
   "execution_count": 61,
   "id": "a37a0add",
   "metadata": {},
   "outputs": [
    {
     "data": {
      "text/plain": [
       "[<matplotlib.lines.Line2D at 0x175131210>]"
      ]
     },
     "execution_count": 61,
     "metadata": {},
     "output_type": "execute_result"
    },
    {
     "data": {
      "image/png": "[encoded data removed]",
      "text/plain": [
       "<Figure size 640x480 with 1 Axes>"
      ]
     },
     "metadata": {},
     "output_type": "display_data"
    }
   ],
   "source": [
    "plt. plot(day_new, scaler.inverse_transform(df1[1156 :]))\n",
    "plt. plot(day_pred, scaler. inverse_transform(lst_output))"
   ]
  },
  {
   "cell_type": "code",
   "execution_count": 62,
   "id": "7448282c",
   "metadata": {},
   "outputs": [
    {
     "data": {
      "text/plain": [
       "[<matplotlib.lines.Line2D at 0x1751c8710>]"
      ]
     },
     "execution_count": 62,
     "metadata": {},
     "output_type": "execute_result"
    },
    {
     "data": {
      "image/png": "[encoded data removed]",
      "text/plain": [
       "<Figure size 640x480 with 1 Axes>"
      ]
     },
     "metadata": {},
     "output_type": "display_data"
    }
   ],
   "source": [
    "df3=df1. tolist()\n",
    "df3. extend (lst_output)\n",
    "plt.plot(df3[1000:])"
   ]
  },
  {
   "cell_type": "code",
   "execution_count": 63,
   "id": "eb245ef1",
   "metadata": {},
   "outputs": [
    {
     "data": {
      "text/plain": [
       "[<matplotlib.lines.Line2D at 0x175013390>]"
      ]
     },
     "execution_count": 63,
     "metadata": {},
     "output_type": "execute_result"
    },
    {
     "data": {
      "image/png": "[encoded data removed]",
      "text/plain": [
       "<Figure size 640x480 with 1 Axes>"
      ]
     },
     "metadata": {},
     "output_type": "display_data"
    }
   ],
   "source": [
    "df3=df1. tolist()\n",
    "df3. extend (lst_output)\n",
    "plt.plot(df3[1200:])"
   ]
  },
  {
   "cell_type": "code",
   "execution_count": null,
   "id": "cb762ad7",
   "metadata": {},
   "outputs": [],
   "source": []
  }
 ],
 "metadata": {
  "kernelspec": {
   "display_name": "Python 3 (ipykernel)",
   "language": "python",
   "name": "python3"
  },
  "language_info": {
   "codemirror_mode": {
    "name": "ipython",
    "version": 3
   },
   "file_extension": ".py",
   "mimetype": "text/x-python",
   "name": "python",
   "nbconvert_exporter": "python",
   "pygments_lexer": "ipython3",
   "version": "3.11.3"
  }
 },
 "nbformat": 4,
 "nbformat_minor": 5
}
